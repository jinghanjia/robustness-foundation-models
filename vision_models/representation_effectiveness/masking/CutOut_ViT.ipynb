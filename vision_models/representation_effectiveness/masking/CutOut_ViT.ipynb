{
 "cells": [
  {
   "cell_type": "markdown",
   "metadata": {},
   "source": [
    "## Setup"
   ]
  },
  {
   "cell_type": "code",
   "execution_count": 1,
   "metadata": {},
   "outputs": [],
   "source": [
    "import sys\n",
    "if \"ViT-pytorch\" not in sys.path:\n",
    "    sys.path.append(\"ViT-pytorch\")\n",
    "\n",
    "from albumentations.pytorch import ToTensorV2\n",
    "import albumentations as A\n",
    "\n",
    "import os\n",
    "import pickle\n",
    "import json\n",
    "\n",
    "import torch\n",
    "import numpy as np\n",
    "import matplotlib.pyplot as plt\n",
    "\n",
    "from urllib.request import urlretrieve\n",
    "from tqdm.notebook import tqdm\n",
    "\n",
    "from PIL import Image\n",
    "from torchvision import transforms\n",
    "\n",
    "from models.modeling import VisionTransformer, CONFIGS"
   ]
  },
  {
   "cell_type": "markdown",
   "metadata": {},
   "source": [
    "## Utilities"
   ]
  },
  {
   "cell_type": "code",
   "execution_count": 2,
   "metadata": {},
   "outputs": [],
   "source": [
    "with open(\"imagenet_class_index.json\", \"r\") as read_file:\n",
    "    imagenet_labels = json.load(read_file)\n",
    "    \n",
    "MAPPING_DICT = {}\n",
    "LABEL_NAMES = {}\n",
    "for label_id in list(imagenet_labels.keys()):\n",
    "    MAPPING_DICT[imagenet_labels[label_id][0]] = int(label_id)\n",
    "    LABEL_NAMES[int(label_id)] = imagenet_labels[label_id][1]\n",
    "    \n",
    "IMAGENET_VAL_PATHS_1k = pickle.loads(open(\"IMAGENET_VAL_PATHS_1k.pkl\", \"rb\").read())"
   ]
  },
  {
   "cell_type": "code",
   "execution_count": 3,
   "metadata": {},
   "outputs": [],
   "source": [
    "os.makedirs(\"attention_data\", exist_ok=True)\n",
    "if not os.path.isfile(\"attention_data/ViT-L_16-224.npz\"):\n",
    "    urlretrieve(\"https://storage.googleapis.com/vit_models/imagenet21k%2Bimagenet2012/ViT-L_16-224.npz\", \n",
    "                \"attention_data/ViT-L_16-224.npz\")"
   ]
  },
  {
   "cell_type": "code",
   "execution_count": 4,
   "metadata": {},
   "outputs": [],
   "source": [
    "# Prepare Model\n",
    "config = CONFIGS[\"ViT-L_16\"]\n",
    "vit_model = VisionTransformer(config, num_classes=1000, zero_head=False, img_size=224)\n",
    "vit_model.load_from(np.load(\"attention_data/ViT-L_16-224.npz\"))\n",
    "vit_model.eval()\n",
    "\n",
    "DEVICE = torch.device(\"cuda\" if torch.cuda.is_available() else \"cpu\")\n",
    "vit_model = vit_model.to(DEVICE)"
   ]
  },
  {
   "cell_type": "code",
   "execution_count": 5,
   "metadata": {},
   "outputs": [],
   "source": [
    "def get_transforms_cutout(factor=0.05, total_area=224*224):\n",
    "    area = total_area * factor\n",
    "    transform = A.Compose([\n",
    "        A.Resize(224, 224),\n",
    "        A.Cutout(num_holes=1, max_h_size=int(np.sqrt(area)), \n",
    "                      max_w_size=int(np.sqrt(area)), \n",
    "                      always_apply=True,\n",
    "                      p=1.),\n",
    "        A.Normalize(mean=[0.5, 0.5, 0.5], std=[0.5, 0.5, 0.5]),\n",
    "        ToTensorV2()\n",
    "    ])\n",
    "    \n",
    "    return transform\n",
    "\n",
    "def get_transforms():\n",
    "    transform = transforms.Compose([\n",
    "        transforms.Resize((224, 224)),\n",
    "        transforms.ToTensor(),\n",
    "        transforms.Normalize(mean=[0.5, 0.5, 0.5], std=[0.5, 0.5, 0.5]),\n",
    "    ])\n",
    "    \n",
    "    return transform"
   ]
  },
  {
   "cell_type": "code",
   "execution_count": 18,
   "metadata": {},
   "outputs": [],
   "source": [
    "def run_prediction(im, factor=None):\n",
    "    if len(np.array(im).shape) == 2:\n",
    "        im = np.expand_dims(np.array(im), -1)\n",
    "        im = np.tile(im, (1, 1, 3))\n",
    "        im = Image.fromarray(im)\n",
    "    if factor:\n",
    "        trans = get_transforms_cutout(factor)\n",
    "        x = trans(image=np.array(im))\n",
    "        x = x[\"image\"]\n",
    "    else:\n",
    "        trans = get_transforms()\n",
    "        x = trans(im)\n",
    "    \n",
    "    x = x.to(DEVICE)\n",
    "    \n",
    "    logits, _ = vit_model(x.unsqueeze(0))\n",
    "\n",
    "    return logits"
   ]
  },
  {
   "cell_type": "markdown",
   "metadata": {},
   "source": [
    "## Evaluate without CutOut"
   ]
  },
  {
   "cell_type": "code",
   "execution_count": 15,
   "metadata": {},
   "outputs": [],
   "source": [
    "def evaluate(factor=None):\n",
    "    correct_image_paths = []\n",
    "\n",
    "    for image_path in tqdm(IMAGENET_VAL_PATHS_1k):\n",
    "        label = image_path.split(\"/\")[1]\n",
    "        image_idx = image_path.split(\".\")[0].split(\"_\")[-1]\n",
    "        label_idx = MAPPING_DICT[label]\n",
    "\n",
    "        im = Image.open(image_path)\n",
    "        logits = run_prediction(im, factor)\n",
    "\n",
    "        probs = torch.nn.Softmax(dim=-1)(logits)\n",
    "        pred = torch.argmax(probs, dim=-1)\n",
    "\n",
    "        if pred.cpu().item() == label_idx: \n",
    "            correct_image_paths.append(image_path)\n",
    "\n",
    "    print(f\"Total corrects: {len(correct_image_paths)} out of {len(IMAGENET_VAL_PATHS_1k)}\")\n",
    "    return len(correct_image_paths) / len(IMAGENET_VAL_PATHS_1k)"
   ]
  },
  {
   "cell_type": "code",
   "execution_count": 16,
   "metadata": {},
   "outputs": [
    {
     "data": {
      "application/vnd.jupyter.widget-view+json": {
       "model_id": "1d54278f7a344f8a9993abe3b427d982",
       "version_major": 2,
       "version_minor": 0
      },
      "text/plain": [
       "  0%|          | 0/1000 [00:00<?, ?it/s]"
      ]
     },
     "metadata": {},
     "output_type": "display_data"
    },
    {
     "name": "stdout",
     "output_type": "stream",
     "text": [
      "Total corrects: 830 out of 1000\n",
      "0.83\n"
     ]
    }
   ],
   "source": [
    "print(evaluate())"
   ]
  },
  {
   "cell_type": "markdown",
   "metadata": {},
   "source": [
    "## Evaluate with CutOut at varying levels"
   ]
  },
  {
   "cell_type": "code",
   "execution_count": 19,
   "metadata": {},
   "outputs": [
    {
     "data": {
      "application/vnd.jupyter.widget-view+json": {
       "model_id": "90526c9fabc24400bd17253d5f71449f",
       "version_major": 2,
       "version_minor": 0
      },
      "text/plain": [
       "  0%|          | 0/1000 [00:00<?, ?it/s]"
      ]
     },
     "metadata": {},
     "output_type": "display_data"
    },
    {
     "name": "stdout",
     "output_type": "stream",
     "text": [
      "Total corrects: 823 out of 1000\n",
      "0.05: 0.823\n"
     ]
    },
    {
     "data": {
      "application/vnd.jupyter.widget-view+json": {
       "model_id": "ef513fe555404a899a9fc68bc1c16505",
       "version_major": 2,
       "version_minor": 0
      },
      "text/plain": [
       "  0%|          | 0/1000 [00:00<?, ?it/s]"
      ]
     },
     "metadata": {},
     "output_type": "display_data"
    },
    {
     "name": "stdout",
     "output_type": "stream",
     "text": [
      "Total corrects: 814 out of 1000\n",
      "0.1: 0.814\n"
     ]
    },
    {
     "data": {
      "application/vnd.jupyter.widget-view+json": {
       "model_id": "680e1229dac0444fa7a803e85118873f",
       "version_major": 2,
       "version_minor": 0
      },
      "text/plain": [
       "  0%|          | 0/1000 [00:00<?, ?it/s]"
      ]
     },
     "metadata": {},
     "output_type": "display_data"
    },
    {
     "name": "stdout",
     "output_type": "stream",
     "text": [
      "Total corrects: 779 out of 1000\n",
      "0.2: 0.779\n"
     ]
    },
    {
     "data": {
      "application/vnd.jupyter.widget-view+json": {
       "model_id": "7e39770da5aa4793ac45140a2179c08d",
       "version_major": 2,
       "version_minor": 0
      },
      "text/plain": [
       "  0%|          | 0/1000 [00:00<?, ?it/s]"
      ]
     },
     "metadata": {},
     "output_type": "display_data"
    },
    {
     "name": "stdout",
     "output_type": "stream",
     "text": [
      "Total corrects: 604 out of 1000\n",
      "0.5: 0.604\n"
     ]
    }
   ],
   "source": [
    "factors = [0.05, 0.1, 0.2, 0.5]\n",
    "factors_dict = {}\n",
    "\n",
    "for factor in factors:\n",
    "    top_1_acc = evaluate(factor)\n",
    "    factors_dict[factor] = top_1_acc\n",
    "    print(f\"{factor}: {top_1_acc}\")"
   ]
  }
 ],
 "metadata": {
  "environment": {
   "name": "tf2-gpu.2-4.mnightly-2021-01-20-debian-10-test",
   "type": "gcloud",
   "uri": "gcr.io/deeplearning-platform-release/tf2-gpu.2-4:mnightly-2021-01-20-debian-10-test"
  },
  "kernelspec": {
   "display_name": "Python 3",
   "language": "python",
   "name": "python3"
  },
  "language_info": {
   "codemirror_mode": {
    "name": "ipython",
    "version": 3
   },
   "file_extension": ".py",
   "mimetype": "text/x-python",
   "name": "python",
   "nbconvert_exporter": "python",
   "pygments_lexer": "ipython3",
   "version": "3.8.6"
  }
 },
 "nbformat": 4,
 "nbformat_minor": 5
}
