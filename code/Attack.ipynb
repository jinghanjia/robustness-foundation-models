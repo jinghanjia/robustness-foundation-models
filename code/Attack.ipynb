{
 "cells": [
  {
   "cell_type": "markdown",
   "metadata": {
    "id": "SSZ2R5sDZ-aF"
   },
   "source": [
    "# Install environment"
   ]
  },
  {
   "cell_type": "code",
   "execution_count": null,
   "metadata": {
    "colab": {
     "base_uri": "https://localhost:8080/",
     "height": 1000
    },
    "id": "3YhY0SyZVe_v",
    "outputId": "eb83a7e3-fc8f-4965-e328-b9f3d80fa815"
   },
   "outputs": [],
   "source": [
    "!pip install torch==1.7.0+cu110 numpy dill tqdm torchtext==0.8.0 tensorboard matplotlib scipy click==7.1.2 allennlp==2.4.0 -f https://download.pytorch.org/whl/torch_stable.html"
   ]
  },
  {
   "cell_type": "markdown",
   "metadata": {
    "id": "iuzRiKXgaGdx"
   },
   "source": [
    "# Download model and dataset\n",
    "In this section, we loaded one pretrained transformer model. "
   ]
  },
  {
   "cell_type": "code",
   "execution_count": 1,
   "metadata": {
    "colab": {
     "base_uri": "https://localhost:8080/"
    },
    "id": "s6PzMP8baKLD",
    "outputId": "a093410e-9448-4861-b488-d0714545ca08"
   },
   "outputs": [
    {
     "name": "stdout",
     "output_type": "stream",
     "text": [
      "Downloading...\n",
      "From: https://drive.google.com/uc?id=13Q-dL0G2UDFSqZQBV2XESPSsQhXaNKDl\n",
      "To: /mnt/ufs18/home-107/jiajingh/Transformer.zip\n",
      "100%|████████████████████████████████████████| 160k/160k [00:00<00:00, 23.2MB/s]\n",
      "Downloading...\n",
      "From: https://drive.google.com/uc?id=1Lq0qbGauACbjGvXnsOkE2qVD8t026wLi\n",
      "To: /mnt/ufs18/home-107/jiajingh/checkpoint.zip\n",
      "100%|█████████████████████████████████████████| 849M/849M [00:07<00:00, 116MB/s]\n",
      "Downloading...\n",
      "From: https://drive.google.com/uc?id=1CeEJ5DaGlpEF7rsY8VYrpuUjADX2w4DX\n",
      "To: /mnt/ufs18/home-107/jiajingh/test_site_map.json\n",
      "100%|███████████████████████████████████████| 35.0M/35.0M [00:00<00:00, 108MB/s]\n",
      "Downloading...\n",
      "From: https://drive.google.com/uc?id=1-LKZhx27toRBYOakZuhmmVJAM8vL4eRT\n",
      "To: /mnt/ufs18/home-107/jiajingh/test.tsv\n",
      "100%|██████████████████████████████████████| 22.7M/22.7M [00:00<00:00, 82.2MB/s]\n"
     ]
    }
   ],
   "source": [
    "!gdown --fuzzy https://drive.google.com/file/d/13Q-dL0G2UDFSqZQBV2XESPSsQhXaNKDl/view?usp=sharing\n",
    "!gdown --fuzzy https://drive.google.com/file/d/1Lq0qbGauACbjGvXnsOkE2qVD8t026wLi/view?usp=sharing\n",
    "!gdown --fuzzy https://drive.google.com/file/d/1CeEJ5DaGlpEF7rsY8VYrpuUjADX2w4DX/view?usp=sharing\n",
    "!gdown --fuzzy https://drive.google.com/file/d/1-LKZhx27toRBYOakZuhmmVJAM8vL4eRT/view?usp=sharing"
   ]
  },
  {
   "cell_type": "code",
   "execution_count": 3,
   "metadata": {
    "colab": {
     "base_uri": "https://localhost:8080/"
    },
    "id": "UcKjfIYJanj3",
    "outputId": "cf774330-9f0e-45df-89a1-51ce615e1939"
   },
   "outputs": [
    {
     "name": "stdout",
     "output_type": "stream",
     "text": [
      "rm: cannot remove ‘__MACOSX/’: No such file or directory\n",
      "rm: cannot remove ‘checkpoint’: No such file or directory\n",
      "rm: cannot remove ‘Transformer/’: No such file or directory\n"
     ]
    }
   ],
   "source": [
    "!rm -r __MACOSX/\n",
    "!rm -r checkpoint\n",
    "!rm -r normal/\n",
    "!rm -r Transformer/\n",
    "!unzip -q Transformer.zip\n",
    "!unzip -q checkpoint.zip\n",
    "%mkdir models/\n",
    "%mkdir normal/\n",
    "%ls\n",
    "%mv checkpoint normal/checkpoints"
   ]
  },
  {
   "cell_type": "code",
   "execution_count": 4,
   "metadata": {
    "id": "f8p5Tqmze29_"
   },
   "outputs": [],
   "source": [
    "%mkdir -p outputs/gradient-targeting"
   ]
  },
  {
   "cell_type": "code",
   "execution_count": 5,
   "metadata": {},
   "outputs": [
    {
     "name": "stdout",
     "output_type": "stream",
     "text": [
      "Requirement already satisfied: scipy in ./anaconda3/lib/python3.8/site-packages (1.6.2)\r\n",
      "Requirement already satisfied: numpy<1.23.0,>=1.16.5 in ./anaconda3/lib/python3.8/site-packages (from scipy) (1.20.1)\r\n"
     ]
    }
   ],
   "source": [
    "!pip install scipy\n",
    "from scipy import spatial"
   ]
  },
  {
   "cell_type": "markdown",
   "metadata": {
    "id": "3uUgaJP5CEOH"
   },
   "source": [
    "# Data preprocessing\n",
    "To save the excuting time, we subsampled 100 samples from the whole dataset."
   ]
  },
  {
   "cell_type": "code",
   "execution_count": 21,
   "metadata": {
    "colab": {
     "base_uri": "https://localhost:8080/"
    },
    "id": "AimcKq1Du7AV",
    "outputId": "94b8b56a-2f17-435f-cc95-a63332da2e3b"
   },
   "outputs": [
    {
     "name": "stdout",
     "output_type": "stream",
     "text": [
      "  + Loaded 19999 samples\n",
      "[25 85 32 66 57 77 16 19 15 37 62 60 93 99 64 91 27 76 39 52 79 82 38 96\n",
      " 45 12 21 28 55 84 46 94 20 26 23 88 54  0 70  2 74 73 98 47 30 86  1 61\n",
      " 68 33  8 78 48 69 36 51  6 71 13 17 56 89 50 29 72 31 95 53 18  7  5 90\n",
      "  9 14 11 63 75 67 83 35 87  4 59 42 40 24  3 97 80 34 92 41 81 49 65 22\n",
      " 58 10 43 44]\n"
     ]
    }
   ],
   "source": [
    "import os\n",
    "import re\n",
    "import csv\n",
    "import sys\n",
    "import json\n",
    "import numpy as np\n",
    "csv.field_size_limit(sys.maxsize)\n",
    "ID_MAP = {}\n",
    "with open(\"test.tsv\", 'r') as identity_tsv:\n",
    "  reader = csv.reader(\n",
    "    (x.replace('\\0', '') for x in identity_tsv),\n",
    "    delimiter='\\t', quoting=csv.QUOTE_NONE\n",
    "  )\n",
    "  next(reader, None)\n",
    "  for line in reader:\n",
    "    ID_MAP[line[0]] = (line[1], line[2])\n",
    "print(\"  + Loaded {} samples\".format(len(ID_MAP)))\n",
    "\n",
    "M = 100\n",
    "idx_lst = list(range(M))\n",
    "idx_lst = np.random.choice(np.array(idx_lst),M,replace=False)\n",
    "print(idx_lst)\n",
    "cnt = 0\n",
    "with open(\"test.tsv\", \"w\") as out_f:\n",
    "  out_f.write('index\\tsrc\\ttgt\\n')\n",
    "  for key in ID_MAP.keys():\n",
    "    if cnt in idx_lst:\n",
    "        row = [ key,ID_MAP[key][0], ID_MAP[key][1] ]\n",
    "        out_f.write('{}\\n'.format('\\t'.join(row)))\n",
    "        cnt+=1\n",
    "    else:\n",
    "        break"
   ]
  },
  {
   "cell_type": "code",
   "execution_count": 22,
   "metadata": {
    "colab": {
     "base_uri": "https://localhost:8080/"
    },
    "id": "FKrAJ6-hRMRx",
    "outputId": "258b41fb-382b-4ee9-8f57-3773d5d632ab"
   },
   "outputs": [
    {
     "name": "stderr",
     "output_type": "stream",
     "text": [
      "  + Progress: 100%|██████████| 100/100 [00:00<00:00, 231985.84it/s]"
     ]
    },
    {
     "name": "stdout",
     "output_type": "stream",
     "text": [
      "Loading identity transform...\n",
      "  + Loaded 100 samples\n",
      "Loading transformed samples...\n",
      "  + Loaded 100 samples from 'transforms.Combined'\n",
      "Writing adv. -fing samples...\n",
      "  + Adversarial testing file generation complete!\n"
     ]
    },
    {
     "name": "stderr",
     "output_type": "stream",
     "text": [
      "\n"
     ]
    }
   ],
   "source": [
    "\n",
    "import os\n",
    "import re\n",
    "import csv\n",
    "import sys\n",
    "import tqdm\n",
    "import json\n",
    "\n",
    "def handle_replacement_tokens(line):\n",
    "  new_line = line\n",
    "  uniques = set()\n",
    "  for match in re.compile('replaceme\\d+').findall(line):\n",
    "    uniques.add(match.strip())\n",
    "  uniques = list(uniques)\n",
    "  uniques.sort()\n",
    "  uniques.reverse()\n",
    "  for match in uniques:\n",
    "    replaced = match.replace(\"replaceme\", \"@R_\") + '@'\n",
    "    new_line = new_line.replace(match, replaced)\n",
    "  return new_line\n",
    "\n",
    "csv.field_size_limit(sys.maxsize)\n",
    "\n",
    "ID_MAP = {}\n",
    "TRANSFORMS = ['transforms.Combined']\n",
    "print(\"Loading identity transform...\")\n",
    "with open(\"test.tsv\", 'r') as identity_tsv:\n",
    "  reader = csv.reader(\n",
    "    (x.replace('\\0', '') for x in identity_tsv),\n",
    "    delimiter='\\t', quoting=csv.QUOTE_NONE\n",
    "  )\n",
    "  next(reader, None)\n",
    "  for line in reader:\n",
    "    ID_MAP[line[0]] = (line[1], line[2])\n",
    "print(\"  + Loaded {} samples\".format(len(ID_MAP)))\n",
    "\n",
    "print(\"Loading transformed samples...\")\n",
    "TRANSFORMED = {}\n",
    "for transform_name in TRANSFORMS:\n",
    "  TRANSFORMED[transform_name] = {}\n",
    "  with open(\"test.tsv\", 'r') as current_tsv:\n",
    "    reader = csv.reader(\n",
    "      (x.replace('\\0', '') for x in current_tsv),\n",
    "      delimiter='\\t', quoting=csv.QUOTE_NONE\n",
    "    )\n",
    "    next(reader, None)\n",
    "    for line in reader:\n",
    "      TRANSFORMED[transform_name][line[0]] = handle_replacement_tokens(line[1])\n",
    "  print(\"  + Loaded {} samples from '{}'\".format(\n",
    "    len(TRANSFORMED[transform_name]), transform_name\n",
    "  ))\n",
    "\n",
    "print(\"Writing adv. {}ing samples...\".format(sys.argv[1]))\n",
    "with open(\"outputs/test.tsv\", \"w\") as out_f:\n",
    "  out_f.write('index\\tsrc\\ttgt\\t{}\\n'.format(\n",
    "    '\\t'.join([ \n",
    "      '{}'.format(i) for i in TRANSFORMS\n",
    "    ])\n",
    "  ))\n",
    "\n",
    "  idx_to_fname = {}\n",
    "  index = 0\n",
    "\n",
    "  for key in tqdm.tqdm(ID_MAP.keys(), desc=\"  + Progress\"):\n",
    "    row = [ ID_MAP[key][0], ID_MAP[key][1] ]\n",
    "    for transform_name in TRANSFORMS:\n",
    "      if key in TRANSFORMED[transform_name]:\n",
    "        row.append(TRANSFORMED[transform_name][key])\n",
    "      else:\n",
    "        row.append(ID_MAP[key][0])\n",
    "    out_f.write('{}\\t{}\\n'.format(index, '\\t'.join(row)))\n",
    "    idx_to_fname[index] = key\n",
    "    index += 1\n",
    "with open('outputs/test_idx_to_fname.json', 'w') as f:\n",
    "  json.dump(idx_to_fname, f)\n",
    "print(\"  + Adversarial testing file generation complete!\")\n"
   ]
  },
  {
   "cell_type": "markdown",
   "metadata": {
    "id": "2l2eMbZPIEDK"
   },
   "source": [
    "# Evaluation on clean examples\n"
   ]
  },
  {
   "cell_type": "markdown",
   "metadata": {
    "id": "u6cncIS8JsRf"
   },
   "source": [
    "## Clean examples"
   ]
  },
  {
   "cell_type": "code",
   "execution_count": 35,
   "metadata": {
    "id": "krqr7pmvIDWZ"
   },
   "outputs": [
    {
     "name": "stdout",
     "output_type": "stream",
     "text": [
      "mkdir: cannot create directory ‘models/’: File exists\n",
      "mkdir: cannot create directory ‘normal/’: File exists\n",
      "\u001b[0m\u001b[01;34manaconda3\u001b[0m/                         new_data.jsonl.gz   test.tsv\n",
      "Anaconda3-2021.05-Linux-x86_64.sh  \u001b[01;34mnormal\u001b[0m/             test.txt\n",
      "Attack.ipynb                       \u001b[01;34mondemand\u001b[0m/           \u001b[01;34mTony\u001b[0m/\n",
      "checkpoint.zip                     optimal.png         train.jsonl\n",
      "clean.png                          \u001b[01;34moutputs\u001b[0m/            train.jsonl.gz\n",
      "data.jsonl                         preprocess.ipynb    train.txt\n",
      "\u001b[01;34mDocuments\u001b[0m/                         programs.tar.gz     \u001b[01;34mTransformer\u001b[0m/\n",
      "environment.yml                    random.png          Transformer.zip\n",
      "\u001b[01;34m__MACOSX\u001b[0m/                          test.jsonl          valid.jsonl\n",
      "\u001b[01;34mmodels\u001b[0m/                            test.jsonl.gz       valid.jsonl.gz\n",
      "new_data.jsonl                     test_site_map.json  valid.txt\n",
      "mv: cannot stat ‘checkpoint’: No such file or directory\n",
      "/mnt/home/jiajingh/anaconda3/lib/python3.8/site-packages/torchtext/data/field.py:150: UserWarning: SourceField class will be retired soon and moved to torchtext.legacy. Please see the most recent release notes for further information.\n",
      "  warnings.warn('{} class will be retired soon and moved to torchtext.legacy. Please see the most recent release notes for further information.'.format(self.__class__.__name__), UserWarning)\n",
      "/mnt/home/jiajingh/anaconda3/lib/python3.8/site-packages/torchtext/data/field.py:150: UserWarning: TargetField class will be retired soon and moved to torchtext.legacy. Please see the most recent release notes for further information.\n",
      "  warnings.warn('{} class will be retired soon and moved to torchtext.legacy. Please see the most recent release notes for further information.'.format(self.__class__.__name__), UserWarning)\n",
      "/mnt/home/jiajingh/anaconda3/lib/python3.8/site-packages/torchtext/data/field.py:150: UserWarning: TransSourceField class will be retired soon and moved to torchtext.legacy. Please see the most recent release notes for further information.\n",
      "  warnings.warn('{} class will be retired soon and moved to torchtext.legacy. Please see the most recent release notes for further information.'.format(self.__class__.__name__), UserWarning)\n",
      "/mnt/home/jiajingh/anaconda3/lib/python3.8/site-packages/torchtext/data/field.py:150: UserWarning: Field class will be retired soon and moved to torchtext.legacy. Please see the most recent release notes for further information.\n",
      "  warnings.warn('{} class will be retired soon and moved to torchtext.legacy. Please see the most recent release notes for further information.'.format(self.__class__.__name__), UserWarning)\n",
      "Namespace(attack_version=2, batch_size=32, data_path='./outputs/test.tsv', distinct=True, exact_matches=False, expt_dir='normal', load_checkpoint='Best_F1', n_alt_iters=2, no_gradient=False, num_replacements=1500, random=False, save_path='./outputs/targets-test.json', smoothing_param=0.01, teacher_ratio=True, u_accumulate_best_replacements=False, u_learning_rate=0.5, u_optim=False, u_pgd_epochs=0, u_rand_update_pgd=False, use_loss_smoothing=False, vocab_to_use=1, z_epsilon=0, z_init=1, z_learning_rate=0.5, z_optim=False)\n",
      "data_split test\n",
      "/mnt/home/jiajingh/anaconda3/lib/python3.8/site-packages/torchtext/data/example.py:68: UserWarning: Example class will be retired soon and moved to torchtext.legacy. Please see the most recent release notes for further information.\n",
      "  warnings.warn('Example class will be retired soon and moved to torchtext.legacy. Please see the most recent release notes for further information.', UserWarning)\n",
      "/mnt/home/jiajingh/anaconda3/lib/python3.8/site-packages/torchtext/data/example.py:78: UserWarning: Example class will be retired soon and moved to torchtext.legacy. Please see the most recent release notes for further information.\n",
      "  warnings.warn('Example class will be retired soon and moved to torchtext.legacy. Please see the most recent release notes for further information.', UserWarning)\n",
      "[('index', <torchtext.data.field.Field object at 0x2ac135961b50>), ('src', <seq2seq.dataset.fields.TransSourceField object at 0x2ac06504af10>), ('tgt', <seq2seq.dataset.fields.TargetField object at 0x2ac1359611f0>), ('transforms.Combined', <seq2seq.dataset.fields.TransSourceField object at 0x2ac135961bb0>)]\n",
      "Original data size: 100\n",
      "Attacking using Gradient transforms.Combined\n",
      "OrderedDict([   ('version', 'v2'),\n",
      "                ('n_alt_iters', 4),\n",
      "                ('z_optim', False),\n",
      "                ('z_epsilon', 0),\n",
      "                ('z_init', 1),\n",
      "                ('u_optim', False),\n",
      "                ('u_pgd_epochs', 0),\n",
      "                ('u_accumulate_best_replacements', False),\n",
      "                ('u_rand_update_pgd', False),\n",
      "                ('smooth_iters', 10),\n",
      "                ('use_cw_loss', False),\n",
      "                ('choose_best_loss_among_iters', True),\n",
      "                ('analyze_exact_match_sample', False),\n",
      "                ('use_orig_tokens', True)])\n",
      "OrderedDict([   ('u_optim_technique', 2),\n",
      "                ('u_init_pgd', 2),\n",
      "                ('learning_rate', 0.5),\n",
      "                ('use_loss_smoothing', False),\n",
      "                ('use_u_discrete', True)])\n",
      "/mnt/home/jiajingh/anaconda3/lib/python3.8/site-packages/torchtext/data/iterator.py:48: UserWarning: BucketIterator class will be retired soon and moved to torchtext.legacy. Please see the most recent release notes for further information.\n",
      "  warnings.warn('{} class will be retired soon and moved to torchtext.legacy. Please see the most recent release notes for further information.'.format(self.__class__.__name__), UserWarning)\n",
      "  0%|                                                     | 0/4 [00:00<?, ?it/s]/mnt/home/jiajingh/anaconda3/lib/python3.8/site-packages/torchtext/data/batch.py:23: UserWarning: Batch class will be retired soon and moved to torchtext.legacy. Please see the most recent release notes for further information.\n",
      "  warnings.warn('{} class will be retired soon and moved to torchtext.legacy. Please see the most recent release notes for further information.'.format(self.__class__.__name__), UserWarning)\n",
      "100%|█████████████████████████████████████████████| 4/4 [00:00<00:00,  9.45it/s]\n",
      "Skipped and reverted to random attacks: 0/100 (0.0)\n",
      "Nothing to attack: 0/1 (0.0)\n",
      "----------------\n",
      "# of samples attacked: 100\n",
      "\n",
      "# tokens optimized on an average: 0.0\n",
      "\n",
      "# of samples attacked post processing: 100\n",
      "=======\n",
      "  + Saved: ./outputs/targets-test-gradient.json\n",
      "\n",
      "In replace_tokens ===== \n",
      "Namespace(dest_data_path='./outputs/gradient-targeting/test.tsv', mapping_json='./outputs/targets-test-gradient.json', source_data_path='./outputs/test.tsv')\n",
      "====\n",
      "101it [00:00, 24838.74it/s]\n"
     ]
    }
   ],
   "source": [
    "from scipy import spatial\n",
    "!python ./Transformer/gradient_attack.py \\\n",
    "    --data_path ./outputs/test.tsv \\\n",
    "    --expt_dir \"normal\" \\\n",
    "    --load_checkpoint \"Best_F1\" \\\n",
    "    --save_path ./outputs/targets-test.json \\\n",
    "    --n_alt_iters 2 \\\n",
    "    --z_init 1 \\\n",
    "    --batch_size 32 \\\n",
    "    --u_pgd_epochs 0 \\\n",
    "    --z_epsilon 0 \\\n",
    "    --attack_version 2 \\\n",
    "    --u_learning_rate 0.5 \\\n",
    "    --z_learning_rate 0.5 \\\n",
    "    --smoothing_param 0.01 \\\n",
    "\t--vocab_to_use 1 \\\n",
    "    --teacher_ratio \n",
    "\n",
    "!python ./Transformer/replace_tokens.py \\\n",
    "      --source_data_path ./outputs/test.tsv \\\n",
    "      --dest_data_path ./outputs/gradient-targeting/test.tsv \\\n",
    "      --mapping_json ./outputs/targets-test-gradient.json\n",
    "  "
   ]
  },
  {
   "cell_type": "markdown",
   "metadata": {
    "id": "Sa12B_M9JzBk"
   },
   "source": [
    "## Evaluation results on the clean examples"
   ]
  },
  {
   "cell_type": "code",
   "execution_count": 24,
   "metadata": {
    "id": "Fh6XGyxvKFgJ"
   },
   "outputs": [
    {
     "name": "stdout",
     "output_type": "stream",
     "text": [
      "/mnt/home/jiajingh/anaconda3/lib/python3.8/site-packages/torchtext/data/field.py:150: UserWarning: SourceField class will be retired soon and moved to torchtext.legacy. Please see the most recent release notes for further information.\n",
      "  warnings.warn('{} class will be retired soon and moved to torchtext.legacy. Please see the most recent release notes for further information.'.format(self.__class__.__name__), UserWarning)\n",
      "/mnt/home/jiajingh/anaconda3/lib/python3.8/site-packages/torchtext/data/field.py:150: UserWarning: TargetField class will be retired soon and moved to torchtext.legacy. Please see the most recent release notes for further information.\n",
      "  warnings.warn('{} class will be retired soon and moved to torchtext.legacy. Please see the most recent release notes for further information.'.format(self.__class__.__name__), UserWarning)\n",
      "/mnt/home/jiajingh/anaconda3/lib/python3.8/site-packages/torchtext/data/field.py:150: UserWarning: TransSourceField class will be retired soon and moved to torchtext.legacy. Please see the most recent release notes for further information.\n",
      "  warnings.warn('{} class will be retired soon and moved to torchtext.legacy. Please see the most recent release notes for further information.'.format(self.__class__.__name__), UserWarning)\n",
      "/mnt/home/jiajingh/anaconda3/lib/python3.8/site-packages/torchtext/data/field.py:150: UserWarning: TargetField class will be retired soon and moved to torchtext.legacy. Please see the most recent release notes for further information.\n",
      "  warnings.warn('{} class will be retired soon and moved to torchtext.legacy. Please see the most recent release notes for further information.'.format(self.__class__.__name__), UserWarning)\n",
      "/mnt/home/jiajingh/anaconda3/lib/python3.8/site-packages/torchtext/data/field.py:150: UserWarning: Field class will be retired soon and moved to torchtext.legacy. Please see the most recent release notes for further information.\n",
      "  warnings.warn('{} class will be retired soon and moved to torchtext.legacy. Please see the most recent release notes for further information.'.format(self.__class__.__name__), UserWarning)\n",
      "Namespace(attributions=False, batch_size=32, data_path='./outputs/gradient-targeting/test.tsv', expt_dir='normal', get_reps=False, load_checkpoint='Best_F1', output_dir='/outputs', save=True, src_field_name='transforms.Combined')\n",
      "normal Best_F1\n",
      "/mnt/home/jiajingh/anaconda3/lib/python3.8/site-packages/torchtext/data/example.py:68: UserWarning: Example class will be retired soon and moved to torchtext.legacy. Please see the most recent release notes for further information.\n",
      "  warnings.warn('Example class will be retired soon and moved to torchtext.legacy. Please see the most recent release notes for further information.', UserWarning)\n",
      "/mnt/home/jiajingh/anaconda3/lib/python3.8/site-packages/torchtext/data/example.py:78: UserWarning: Example class will be retired soon and moved to torchtext.legacy. Please see the most recent release notes for further information.\n",
      "  warnings.warn('Example class will be retired soon and moved to torchtext.legacy. Please see the most recent release notes for further information.', UserWarning)\n",
      "transforms.Combined\n",
      "Sizes:\n",
      "  + Data Small 95\n",
      "  + Data Med 4\n",
      "  + Data Lrg 1\n",
      "False\n",
      "/mnt/home/jiajingh/anaconda3/lib/python3.8/site-packages/torchtext/data/iterator.py:48: UserWarning: BucketIterator class will be retired soon and moved to torchtext.legacy. Please see the most recent release notes for further information.\n",
      "  warnings.warn('{} class will be retired soon and moved to torchtext.legacy. Please see the most recent release notes for further information.'.format(self.__class__.__name__), UserWarning)\n",
      "0it [00:00, ?it/s]/mnt/home/jiajingh/anaconda3/lib/python3.8/site-packages/torchtext/data/batch.py:23: UserWarning: Batch class will be retired soon and moved to torchtext.legacy. Please see the most recent release notes for further information.\n",
      "  warnings.warn('{} class will be retired soon and moved to torchtext.legacy. Please see the most recent release notes for further information.'.format(self.__class__.__name__), UserWarning)\n",
      "4it [00:08,  2.04s/it]\n",
      "100%|███████████████████████████████████████| 99/99 [00:00<00:00, 120673.09it/s]\n",
      "--------------- f1: 32.64367815615315\n",
      "\n",
      "--------------- asr_dataset: 11.76\n",
      "\n",
      "--------------- asr_sample_mean: 0.1\n",
      "\n",
      "--------------- asr_sample_std: 0.21\n",
      "\n",
      "Traceback (most recent call last):\n",
      "  File \"./Transformer/evaluate.py\", line 238, in <module>\n",
      "    evaluate_model( model, data_all, data_sml, data_med, data_lrg, opt.save, opt.output_dir, output_fname, opt.src_field_name, opt.attributions,opt.get_reps,opt.batch_size)\n",
      "  File \"./Transformer/evaluate.py\", line 185, in evaluate_model\n",
      "    with open(os.path.join(output_dir,'preds.json'), 'w') as f:\n",
      "FileNotFoundError: [Errno 2] No such file or directory: '/outputs/preds.json'\n"
     ]
    }
   ],
   "source": [
    "!python3 ./Transformer/evaluate.py \\\n",
    "  --data_path ./outputs/gradient-targeting/test.tsv \\\n",
    "  --expt_dir \"normal\" \\\n",
    "  --output_dir /outputs \\\n",
    "  --load_checkpoint \"Best_F1\" \\\n",
    "  --src_field_name \"transforms.Combined\" --save "
   ]
  },
  {
   "cell_type": "markdown",
   "metadata": {
    "id": "mvM6ZwXZyINW"
   },
   "source": [
    "# Adversarial examples generation\n",
    "In this section, you can utilize two version of attacks. \n",
    "1. Random select sites (where should be attacked in the sentence), perturb those selected sites.\n",
    "2. Co-optimize sites and tokens to generate attack. "
   ]
  },
  {
   "cell_type": "markdown",
   "metadata": {
    "id": "TaTYx8iRKLxm"
   },
   "source": [
    "## Random site-selection + optimal site-perturbation"
   ]
  },
  {
   "cell_type": "code",
   "execution_count": 29,
   "metadata": {
    "colab": {
     "base_uri": "https://localhost:8080/"
    },
    "id": "SBA9Q4L_h4gh",
    "outputId": "4b531bd9-b631-46ad-aead-0d376b2fe2a8"
   },
   "outputs": [
    {
     "name": "stdout",
     "output_type": "stream",
     "text": [
      "mkdir: cannot create directory ‘models/’: File exists\n",
      "mkdir: cannot create directory ‘normal/’: File exists\n",
      "mv: cannot stat ‘checkpoint’: No such file or directory\n",
      "/mnt/home/jiajingh/anaconda3/lib/python3.8/site-packages/torchtext/data/field.py:150: UserWarning: SourceField class will be retired soon and moved to torchtext.legacy. Please see the most recent release notes for further information.\n",
      "  warnings.warn('{} class will be retired soon and moved to torchtext.legacy. Please see the most recent release notes for further information.'.format(self.__class__.__name__), UserWarning)\n",
      "/mnt/home/jiajingh/anaconda3/lib/python3.8/site-packages/torchtext/data/field.py:150: UserWarning: TargetField class will be retired soon and moved to torchtext.legacy. Please see the most recent release notes for further information.\n",
      "  warnings.warn('{} class will be retired soon and moved to torchtext.legacy. Please see the most recent release notes for further information.'.format(self.__class__.__name__), UserWarning)\n",
      "/mnt/home/jiajingh/anaconda3/lib/python3.8/site-packages/torchtext/data/field.py:150: UserWarning: TransSourceField class will be retired soon and moved to torchtext.legacy. Please see the most recent release notes for further information.\n",
      "  warnings.warn('{} class will be retired soon and moved to torchtext.legacy. Please see the most recent release notes for further information.'.format(self.__class__.__name__), UserWarning)\n",
      "/mnt/home/jiajingh/anaconda3/lib/python3.8/site-packages/torchtext/data/field.py:150: UserWarning: Field class will be retired soon and moved to torchtext.legacy. Please see the most recent release notes for further information.\n",
      "  warnings.warn('{} class will be retired soon and moved to torchtext.legacy. Please see the most recent release notes for further information.'.format(self.__class__.__name__), UserWarning)\n",
      "Namespace(attack_version=2, batch_size=16, data_path='./outputs/test.tsv', distinct=True, exact_matches=False, expt_dir='normal', load_checkpoint='Best_F1', n_alt_iters=2, no_gradient=False, num_replacements=1500, random=False, save_path='./outputs/targets-test.json', smoothing_param=0.01, teacher_ratio=True, u_accumulate_best_replacements=False, u_learning_rate=0.5, u_optim=True, u_pgd_epochs=3, u_rand_update_pgd=False, use_loss_smoothing=False, vocab_to_use=1, z_epsilon=1, z_init=1, z_learning_rate=0.5, z_optim=False)\n",
      "data_split test\n",
      "/mnt/home/jiajingh/anaconda3/lib/python3.8/site-packages/torchtext/data/example.py:68: UserWarning: Example class will be retired soon and moved to torchtext.legacy. Please see the most recent release notes for further information.\n",
      "  warnings.warn('Example class will be retired soon and moved to torchtext.legacy. Please see the most recent release notes for further information.', UserWarning)\n",
      "/mnt/home/jiajingh/anaconda3/lib/python3.8/site-packages/torchtext/data/example.py:78: UserWarning: Example class will be retired soon and moved to torchtext.legacy. Please see the most recent release notes for further information.\n",
      "  warnings.warn('Example class will be retired soon and moved to torchtext.legacy. Please see the most recent release notes for further information.', UserWarning)\n",
      "[('index', <torchtext.data.field.Field object at 0x2b0e8dab4b50>), ('src', <seq2seq.dataset.fields.TransSourceField object at 0x2b0dcd19cf10>), ('tgt', <seq2seq.dataset.fields.TargetField object at 0x2b0e8dab41f0>), ('transforms.Combined', <seq2seq.dataset.fields.TransSourceField object at 0x2b0e8dab4bb0>)]\n",
      "Original data size: 100\n",
      "Attacking using Gradient transforms.Combined\n",
      "OrderedDict([   ('version', 'v2'),\n",
      "                ('n_alt_iters', 4),\n",
      "                ('z_optim', False),\n",
      "                ('z_epsilon', 1),\n",
      "                ('z_init', 1),\n",
      "                ('u_optim', True),\n",
      "                ('u_pgd_epochs', 3),\n",
      "                ('u_accumulate_best_replacements', False),\n",
      "                ('u_rand_update_pgd', False),\n",
      "                ('smooth_iters', 10),\n",
      "                ('use_cw_loss', False),\n",
      "                ('choose_best_loss_among_iters', True),\n",
      "                ('analyze_exact_match_sample', False),\n",
      "                ('use_orig_tokens', True)])\n",
      "OrderedDict([   ('u_optim_technique', 2),\n",
      "                ('u_init_pgd', 2),\n",
      "                ('learning_rate', 0.5),\n",
      "                ('use_loss_smoothing', False),\n",
      "                ('use_u_discrete', True)])\n",
      "/mnt/home/jiajingh/anaconda3/lib/python3.8/site-packages/torchtext/data/iterator.py:48: UserWarning: BucketIterator class will be retired soon and moved to torchtext.legacy. Please see the most recent release notes for further information.\n",
      "  warnings.warn('{} class will be retired soon and moved to torchtext.legacy. Please see the most recent release notes for further information.'.format(self.__class__.__name__), UserWarning)\n",
      "  0%|                                                     | 0/7 [00:00<?, ?it/s]/mnt/home/jiajingh/anaconda3/lib/python3.8/site-packages/torchtext/data/batch.py:23: UserWarning: Batch class will be retired soon and moved to torchtext.legacy. Please see the most recent release notes for further information.\n",
      "  warnings.warn('{} class will be retired soon and moved to torchtext.legacy. Please see the most recent release notes for further information.'.format(self.__class__.__name__), UserWarning)\n",
      "100%|█████████████████████████████████████████████| 7/7 [00:50<00:00,  7.17s/it]\n",
      "Skipped and reverted to random attacks: 20/100 (20.0)\n",
      "Nothing to attack: 0/81 (0.0)\n",
      "----------------\n",
      "# of samples attacked: 100\n",
      "\n",
      "# tokens optimized on an average: 1.0\n",
      "\n",
      "# of samples attacked post processing: 100\n",
      "=======\n",
      "  + Saved: ./outputs/targets-test-gradient.json\n",
      "\n",
      "In replace_tokens ===== \n",
      "Namespace(dest_data_path='./outputs/gradient-targeting/test.tsv', mapping_json='./outputs/targets-test-gradient.json', source_data_path='./outputs/test.tsv')\n",
      "====\n",
      "101it [00:00, 24381.28it/s]\n"
     ]
    }
   ],
   "source": [
    "%mkdir models/\n",
    "%mkdir normal/\n",
    "%mv checkpoint normal/checkpoints\n",
    "!python3 ./Transformer/gradient_attack.py \\\n",
    "    --data_path ./outputs/test.tsv \\\n",
    "    --expt_dir \"normal\" \\\n",
    "    --load_checkpoint \"Best_F1\" \\\n",
    "    --save_path ./outputs/targets-test.json \\\n",
    "    --n_alt_iters 2 \\\n",
    "    --z_init 1 \\\n",
    "    --batch_size 16 \\\n",
    "    --u_pgd_epochs 3 \\\n",
    "    --z_epsilon 1 \\\n",
    "    --attack_version 2 \\\n",
    "    --u_learning_rate 0.5 \\\n",
    "    --z_learning_rate 0.5 \\\n",
    "    --smoothing_param 0.01 \\\n",
    "\t--vocab_to_use 1 \\\n",
    "    --teacher_ratio \\\n",
    "    --u_optim\n",
    "!python3 ./Transformer/replace_tokens.py \\\n",
    "      --source_data_path ./outputs/test.tsv \\\n",
    "      --dest_data_path ./outputs/gradient-targeting/test.tsv \\\n",
    "      --mapping_json ./outputs/targets-test-gradient.json"
   ]
  },
  {
   "cell_type": "markdown",
   "metadata": {
    "id": "Ah_oM47CKpne"
   },
   "source": [
    "## Evaluation results"
   ]
  },
  {
   "cell_type": "code",
   "execution_count": 30,
   "metadata": {
    "id": "2zR-wN-7KnJY"
   },
   "outputs": [
    {
     "name": "stdout",
     "output_type": "stream",
     "text": [
      "/mnt/home/jiajingh/anaconda3/lib/python3.8/site-packages/torchtext/data/field.py:150: UserWarning: SourceField class will be retired soon and moved to torchtext.legacy. Please see the most recent release notes for further information.\n",
      "  warnings.warn('{} class will be retired soon and moved to torchtext.legacy. Please see the most recent release notes for further information.'.format(self.__class__.__name__), UserWarning)\n",
      "/mnt/home/jiajingh/anaconda3/lib/python3.8/site-packages/torchtext/data/field.py:150: UserWarning: TargetField class will be retired soon and moved to torchtext.legacy. Please see the most recent release notes for further information.\n",
      "  warnings.warn('{} class will be retired soon and moved to torchtext.legacy. Please see the most recent release notes for further information.'.format(self.__class__.__name__), UserWarning)\n",
      "/mnt/home/jiajingh/anaconda3/lib/python3.8/site-packages/torchtext/data/field.py:150: UserWarning: TransSourceField class will be retired soon and moved to torchtext.legacy. Please see the most recent release notes for further information.\n",
      "  warnings.warn('{} class will be retired soon and moved to torchtext.legacy. Please see the most recent release notes for further information.'.format(self.__class__.__name__), UserWarning)\n",
      "/mnt/home/jiajingh/anaconda3/lib/python3.8/site-packages/torchtext/data/field.py:150: UserWarning: TargetField class will be retired soon and moved to torchtext.legacy. Please see the most recent release notes for further information.\n",
      "  warnings.warn('{} class will be retired soon and moved to torchtext.legacy. Please see the most recent release notes for further information.'.format(self.__class__.__name__), UserWarning)\n",
      "/mnt/home/jiajingh/anaconda3/lib/python3.8/site-packages/torchtext/data/field.py:150: UserWarning: Field class will be retired soon and moved to torchtext.legacy. Please see the most recent release notes for further information.\n",
      "  warnings.warn('{} class will be retired soon and moved to torchtext.legacy. Please see the most recent release notes for further information.'.format(self.__class__.__name__), UserWarning)\n",
      "Namespace(attributions=False, batch_size=32, data_path='./outputs/gradient-targeting/test.tsv', expt_dir='normal', get_reps=False, load_checkpoint='Best_F1', output_dir='/outputs', save=True, src_field_name='transforms.Combined')\n",
      "normal Best_F1\n",
      "/mnt/home/jiajingh/anaconda3/lib/python3.8/site-packages/torchtext/data/example.py:68: UserWarning: Example class will be retired soon and moved to torchtext.legacy. Please see the most recent release notes for further information.\n",
      "  warnings.warn('Example class will be retired soon and moved to torchtext.legacy. Please see the most recent release notes for further information.', UserWarning)\n",
      "/mnt/home/jiajingh/anaconda3/lib/python3.8/site-packages/torchtext/data/example.py:78: UserWarning: Example class will be retired soon and moved to torchtext.legacy. Please see the most recent release notes for further information.\n",
      "  warnings.warn('Example class will be retired soon and moved to torchtext.legacy. Please see the most recent release notes for further information.', UserWarning)\n",
      "transforms.Combined\n",
      "Sizes:\n",
      "  + Data Small 95\n",
      "  + Data Med 4\n",
      "  + Data Lrg 1\n",
      "False\n",
      "/mnt/home/jiajingh/anaconda3/lib/python3.8/site-packages/torchtext/data/iterator.py:48: UserWarning: BucketIterator class will be retired soon and moved to torchtext.legacy. Please see the most recent release notes for further information.\n",
      "  warnings.warn('{} class will be retired soon and moved to torchtext.legacy. Please see the most recent release notes for further information.'.format(self.__class__.__name__), UserWarning)\n",
      "0it [00:00, ?it/s]/mnt/home/jiajingh/anaconda3/lib/python3.8/site-packages/torchtext/data/batch.py:23: UserWarning: Batch class will be retired soon and moved to torchtext.legacy. Please see the most recent release notes for further information.\n",
      "  warnings.warn('{} class will be retired soon and moved to torchtext.legacy. Please see the most recent release notes for further information.'.format(self.__class__.__name__), UserWarning)\n",
      "4it [00:08,  2.05s/it]\n",
      "100%|███████████████████████████████████████| 99/99 [00:00<00:00, 115729.12it/s]\n",
      "--------------- f1: 31.435079721861552\n",
      "\n",
      "Traceback (most recent call last):\n",
      "  File \"./Transformer/evaluate.py\", line 238, in <module>\n",
      "    evaluate_model( model, data_all, data_sml, data_med, data_lrg, opt.save, opt.output_dir, output_fname, opt.src_field_name, opt.attributions,opt.get_reps,opt.batch_size)\n",
      "  File \"./Transformer/evaluate.py\", line 185, in evaluate_model\n",
      "    with open(os.path.join(output_dir,'preds.json'), 'w') as f:\n",
      "FileNotFoundError: [Errno 2] No such file or directory: '/outputs/preds.json'\n"
     ]
    }
   ],
   "source": [
    "!python3 ./Transformer/evaluate.py \\\n",
    "  --data_path ./outputs/gradient-targeting/test.tsv \\\n",
    "  --expt_dir \"normal\" \\\n",
    "  --output_dir ./outputs \\\n",
    "  --load_checkpoint \"Best_F1\" \\\n",
    "  --src_field_name \"transforms.Combined\" --save "
   ]
  },
  {
   "cell_type": "markdown",
   "metadata": {
    "id": "ma9ne2lRKzDE"
   },
   "source": [
    "## optimal site-selection + optimal site-perturbation"
   ]
  },
  {
   "cell_type": "code",
   "execution_count": 29,
   "metadata": {
    "colab": {
     "base_uri": "https://localhost:8080/"
    },
    "id": "2rXwop5jp5HZ",
    "outputId": "ed532bcc-3301-446f-e5ca-aa4dd925a8b0"
   },
   "outputs": [
    {
     "name": "stdout",
     "output_type": "stream",
     "text": [
      "mkdir: cannot create directory ‘models/’: File exists\n",
      "mkdir: cannot create directory ‘normal/’: File exists\n",
      "mv: cannot stat ‘checkpoint’: No such file or directory\n",
      "/mnt/home/jiajingh/anaconda3/lib/python3.8/site-packages/torchtext/data/field.py:150: UserWarning: SourceField class will be retired soon and moved to torchtext.legacy. Please see the most recent release notes for further information.\n",
      "  warnings.warn('{} class will be retired soon and moved to torchtext.legacy. Please see the most recent release notes for further information.'.format(self.__class__.__name__), UserWarning)\n",
      "/mnt/home/jiajingh/anaconda3/lib/python3.8/site-packages/torchtext/data/field.py:150: UserWarning: TargetField class will be retired soon and moved to torchtext.legacy. Please see the most recent release notes for further information.\n",
      "  warnings.warn('{} class will be retired soon and moved to torchtext.legacy. Please see the most recent release notes for further information.'.format(self.__class__.__name__), UserWarning)\n",
      "/mnt/home/jiajingh/anaconda3/lib/python3.8/site-packages/torchtext/data/field.py:150: UserWarning: TransSourceField class will be retired soon and moved to torchtext.legacy. Please see the most recent release notes for further information.\n",
      "  warnings.warn('{} class will be retired soon and moved to torchtext.legacy. Please see the most recent release notes for further information.'.format(self.__class__.__name__), UserWarning)\n",
      "/mnt/home/jiajingh/anaconda3/lib/python3.8/site-packages/torchtext/data/field.py:150: UserWarning: Field class will be retired soon and moved to torchtext.legacy. Please see the most recent release notes for further information.\n",
      "  warnings.warn('{} class will be retired soon and moved to torchtext.legacy. Please see the most recent release notes for further information.'.format(self.__class__.__name__), UserWarning)\n",
      "Namespace(attack_version=2, batch_size=16, data_path='./outputs/test.tsv', distinct=True, exact_matches=False, expt_dir='normal', load_checkpoint='Best_F1', n_alt_iters=2, no_gradient=False, num_replacements=1500, random=False, save_path='./outputs/targets-test.json', smoothing_param=0.01, teacher_ratio=True, u_accumulate_best_replacements=False, u_learning_rate=0.5, u_optim=True, u_pgd_epochs=3, u_rand_update_pgd=False, use_loss_smoothing=False, vocab_to_use=1, z_epsilon=1, z_init=1, z_learning_rate=0.5, z_optim=True)\n",
      "data_split test\n",
      "/mnt/home/jiajingh/anaconda3/lib/python3.8/site-packages/torchtext/data/example.py:68: UserWarning: Example class will be retired soon and moved to torchtext.legacy. Please see the most recent release notes for further information.\n",
      "  warnings.warn('Example class will be retired soon and moved to torchtext.legacy. Please see the most recent release notes for further information.', UserWarning)\n",
      "/mnt/home/jiajingh/anaconda3/lib/python3.8/site-packages/torchtext/data/example.py:78: UserWarning: Example class will be retired soon and moved to torchtext.legacy. Please see the most recent release notes for further information.\n",
      "  warnings.warn('Example class will be retired soon and moved to torchtext.legacy. Please see the most recent release notes for further information.', UserWarning)\n",
      "[('index', <torchtext.data.field.Field object at 0x2b4f4d2a5b20>), ('src', <seq2seq.dataset.fields.TransSourceField object at 0x2b4e8c98cee0>), ('tgt', <seq2seq.dataset.fields.TargetField object at 0x2b4f4d2a51c0>), ('transforms.Combined', <seq2seq.dataset.fields.TransSourceField object at 0x2b4f4d2a5b80>)]\n",
      "Original data size: 100\n",
      "Attacking using Gradient transforms.Combined\n",
      "OrderedDict([   ('version', 'v2'),\n",
      "                ('n_alt_iters', 4),\n",
      "                ('z_optim', True),\n",
      "                ('z_epsilon', 1),\n",
      "                ('z_init', 1),\n",
      "                ('u_optim', True),\n",
      "                ('u_pgd_epochs', 3),\n",
      "                ('u_accumulate_best_replacements', False),\n",
      "                ('u_rand_update_pgd', False),\n",
      "                ('smooth_iters', 10),\n",
      "                ('use_cw_loss', False),\n",
      "                ('choose_best_loss_among_iters', True),\n",
      "                ('analyze_exact_match_sample', False),\n",
      "                ('use_orig_tokens', True)])\n",
      "OrderedDict([   ('u_optim_technique', 2),\n",
      "                ('u_init_pgd', 2),\n",
      "                ('learning_rate', 0.5),\n",
      "                ('use_loss_smoothing', False),\n",
      "                ('use_u_discrete', True)])\n",
      "/mnt/home/jiajingh/anaconda3/lib/python3.8/site-packages/torchtext/data/iterator.py:48: UserWarning: BucketIterator class will be retired soon and moved to torchtext.legacy. Please see the most recent release notes for further information.\n",
      "  warnings.warn('{} class will be retired soon and moved to torchtext.legacy. Please see the most recent release notes for further information.'.format(self.__class__.__name__), UserWarning)\n",
      "  0%|                                                     | 0/7 [00:00<?, ?it/s]/mnt/home/jiajingh/anaconda3/lib/python3.8/site-packages/torchtext/data/batch.py:23: UserWarning: Batch class will be retired soon and moved to torchtext.legacy. Please see the most recent release notes for further information.\n",
      "  warnings.warn('{} class will be retired soon and moved to torchtext.legacy. Please see the most recent release notes for further information.'.format(self.__class__.__name__), UserWarning)\n",
      "100%|█████████████████████████████████████████████| 7/7 [01:20<00:00, 11.57s/it]\n",
      "Skipped and reverted to random attacks: 20/100 (20.0)\n",
      "Nothing to attack: 0/81 (0.0)\n",
      "----------------\n",
      "# of samples attacked: 100\n",
      "\n",
      "# tokens optimized on an average: 1.0\n",
      "\n",
      "# of samples attacked post processing: 100\n",
      "=======\n",
      "  + Saved: ./outputs/targets-test-gradient.json\n",
      "\n",
      "In replace_tokens ===== \n",
      "Namespace(dest_data_path='./outputs/gradient-targeting/test.tsv', mapping_json='./outputs/targets-test-gradient.json', source_data_path='./outputs/test.tsv')\n",
      "====\n",
      "101it [00:00, 24016.37it/s]\n"
     ]
    }
   ],
   "source": [
    "%mkdir models/\n",
    "%mkdir normal/\n",
    "%mv checkpoint normal/checkpoints\n",
    "!python3 ./Transformer/gradient_attack.py \\\n",
    "    --data_path ./outputs/test.tsv \\\n",
    "    --expt_dir \"normal\" \\\n",
    "    --load_checkpoint \"Best_F1\" \\\n",
    "    --save_path ./outputs/targets-test.json \\\n",
    "    --n_alt_iters 2 \\\n",
    "    --z_init 1 \\\n",
    "    --z_epsilon 1 \\\n",
    "    --batch_size 16 \\\n",
    "    --u_pgd_epochs 3 \\\n",
    "    --attack_version 2 \\\n",
    "    --u_learning_rate 0.5 \\\n",
    "    --z_learning_rate 0.5 \\\n",
    "    --smoothing_param 0.01 \\\n",
    "\t--vocab_to_use 1 \\\n",
    "    --teacher_ratio \\\n",
    "    --u_optim \\\n",
    "    --z_optim\n",
    "!python3 ./Transformer/replace_tokens.py \\\n",
    "      --source_data_path ./outputs/test.tsv \\\n",
    "      --dest_data_path ./outputs/gradient-targeting/test.tsv \\\n",
    "      --mapping_json ./outputs/targets-test-gradient.json"
   ]
  },
  {
   "cell_type": "markdown",
   "metadata": {
    "id": "zyNcue6WygNw"
   },
   "source": [
    "## Evaluation results\n"
   ]
  },
  {
   "cell_type": "code",
   "execution_count": 30,
   "metadata": {
    "colab": {
     "background_save": true
    },
    "id": "R3EqO5_jrZzI",
    "outputId": "e6ed097d-f7cf-4a81-9df5-9e20b4615191",
    "scrolled": true
   },
   "outputs": [
    {
     "name": "stdout",
     "output_type": "stream",
     "text": [
      "/mnt/home/jiajingh/anaconda3/lib/python3.8/site-packages/torchtext/data/field.py:150: UserWarning: SourceField class will be retired soon and moved to torchtext.legacy. Please see the most recent release notes for further information.\n",
      "  warnings.warn('{} class will be retired soon and moved to torchtext.legacy. Please see the most recent release notes for further information.'.format(self.__class__.__name__), UserWarning)\n",
      "/mnt/home/jiajingh/anaconda3/lib/python3.8/site-packages/torchtext/data/field.py:150: UserWarning: TargetField class will be retired soon and moved to torchtext.legacy. Please see the most recent release notes for further information.\n",
      "  warnings.warn('{} class will be retired soon and moved to torchtext.legacy. Please see the most recent release notes for further information.'.format(self.__class__.__name__), UserWarning)\n",
      "/mnt/home/jiajingh/anaconda3/lib/python3.8/site-packages/torchtext/data/field.py:150: UserWarning: TransSourceField class will be retired soon and moved to torchtext.legacy. Please see the most recent release notes for further information.\n",
      "  warnings.warn('{} class will be retired soon and moved to torchtext.legacy. Please see the most recent release notes for further information.'.format(self.__class__.__name__), UserWarning)\n",
      "/mnt/home/jiajingh/anaconda3/lib/python3.8/site-packages/torchtext/data/field.py:150: UserWarning: TargetField class will be retired soon and moved to torchtext.legacy. Please see the most recent release notes for further information.\n",
      "  warnings.warn('{} class will be retired soon and moved to torchtext.legacy. Please see the most recent release notes for further information.'.format(self.__class__.__name__), UserWarning)\n",
      "/mnt/home/jiajingh/anaconda3/lib/python3.8/site-packages/torchtext/data/field.py:150: UserWarning: Field class will be retired soon and moved to torchtext.legacy. Please see the most recent release notes for further information.\n",
      "  warnings.warn('{} class will be retired soon and moved to torchtext.legacy. Please see the most recent release notes for further information.'.format(self.__class__.__name__), UserWarning)\n",
      "Namespace(attributions=False, batch_size=32, data_path='./outputs/gradient-targeting/test.tsv', expt_dir='normal', get_reps=False, load_checkpoint='Best_F1', output_dir='./outputs', save=True, src_field_name='transforms.Combined')\n",
      "normal Best_F1\n",
      "/mnt/home/jiajingh/anaconda3/lib/python3.8/site-packages/torchtext/data/example.py:68: UserWarning: Example class will be retired soon and moved to torchtext.legacy. Please see the most recent release notes for further information.\n",
      "  warnings.warn('Example class will be retired soon and moved to torchtext.legacy. Please see the most recent release notes for further information.', UserWarning)\n",
      "/mnt/home/jiajingh/anaconda3/lib/python3.8/site-packages/torchtext/data/example.py:78: UserWarning: Example class will be retired soon and moved to torchtext.legacy. Please see the most recent release notes for further information.\n",
      "  warnings.warn('Example class will be retired soon and moved to torchtext.legacy. Please see the most recent release notes for further information.', UserWarning)\n",
      "transforms.Combined\n",
      "Sizes:\n",
      "  + Data Small 95\n",
      "  + Data Med 4\n",
      "  + Data Lrg 1\n",
      "False\n",
      "/mnt/home/jiajingh/anaconda3/lib/python3.8/site-packages/torchtext/data/iterator.py:48: UserWarning: BucketIterator class will be retired soon and moved to torchtext.legacy. Please see the most recent release notes for further information.\n",
      "  warnings.warn('{} class will be retired soon and moved to torchtext.legacy. Please see the most recent release notes for further information.'.format(self.__class__.__name__), UserWarning)\n",
      "0it [00:00, ?it/s]/mnt/home/jiajingh/anaconda3/lib/python3.8/site-packages/torchtext/data/batch.py:23: UserWarning: Batch class will be retired soon and moved to torchtext.legacy. Please see the most recent release notes for further information.\n",
      "  warnings.warn('{} class will be retired soon and moved to torchtext.legacy. Please see the most recent release notes for further information.'.format(self.__class__.__name__), UserWarning)\n",
      "4it [00:08,  2.02s/it]\n",
      "100%|███████████████████████████████████████| 99/99 [00:00<00:00, 115761.39it/s]\n",
      "--------------- f1: 30.454545449750203\n",
      "\n",
      "Output files written\n"
     ]
    }
   ],
   "source": [
    "!python3 ./Transformer/evaluate.py \\\n",
    "  --data_path ./outputs/gradient-targeting/test.tsv \\\n",
    "  --expt_dir \"normal\" \\\n",
    "  --output_dir ./outputs \\\n",
    "  --load_checkpoint \"Best_F1\" \\\n",
    "  --src_field_name \"transforms.Combined\" --save "
   ]
  },
  {
   "cell_type": "markdown",
   "metadata": {
    "id": "O0Za353aAJp7"
   },
   "source": [
    "# Visualization\n",
    "In this section we provide visualization results for adversarial attacks and clean examples."
   ]
  },
  {
   "cell_type": "markdown",
   "metadata": {
    "id": "aMU_5Kt0kox0"
   },
   "source": [
    "## clean example\n",
    "![alt text](clean.png \"Title\")\n",
    "## random site-selection + optimal site-perturbation\n",
    "![alt text](random.png \"Title\")\n",
    "## optimal site-selection + optimal site-perturbation\n",
    "![alt text](optimal.png \"Title\")"
   ]
  },
  {
   "cell_type": "code",
   "execution_count": 42,
   "metadata": {},
   "outputs": [
    {
     "name": "stdout",
     "output_type": "stream",
     "text": [
      "Downloading...\n",
      "From: https://drive.google.com/uc?id=1SzrDr9-YcKqkit0KQmcysJQnN4WFMFKJ\n",
      "To: /mnt/ufs18/home-107/jiajingh/claw-sat.zip\n",
      "100%|███████████████████████████████████████| 1.48G/1.48G [00:12<00:00, 116MB/s]\n"
     ]
    }
   ],
   "source": [
    "!gdown --fuzzy https://drive.google.com/file/d/1SzrDr9-YcKqkit0KQmcysJQnN4WFMFKJ/view?usp=sharing"
   ]
  },
  {
   "cell_type": "code",
   "execution_count": 38,
   "metadata": {},
   "outputs": [
    {
     "name": "stdout",
     "output_type": "stream",
     "text": [
      "Downloading...\n",
      "From: https://drive.google.com/uc?id=1PhwELuRhEtTJEz_sH8PV9Xiq49BU0z7d\n",
      "To: /mnt/ufs18/home-107/jiajingh/contracode.zip\n",
      "100%|█████████████████████████████████████████| 857M/857M [00:07<00:00, 117MB/s]\n"
     ]
    }
   ],
   "source": [
    "!gdown --fuzzy https://drive.google.com/file/d/1PhwELuRhEtTJEz_sH8PV9Xiq49BU0z7d/view?usp=sharing"
   ]
  },
  {
   "cell_type": "code",
   "execution_count": 48,
   "metadata": {},
   "outputs": [
    {
     "name": "stdout",
     "output_type": "stream",
     "text": [
      "rm: cannot remove ‘final-models/’: No such file or directory\r\n"
     ]
    }
   ],
   "source": [
    "!rm -r final-models/\n",
    "!mkdir -p claw-sat/checkpoints\n",
    "!mkdir -p contracode/checkpoints\n",
    "!unzip -q claw-sat.zip -d ./claw-sat/checkpoints/Best_F1\n",
    "!unzip -q contracode.zip -d ./contracode/checkpoints/Best_F1"
   ]
  },
  {
   "cell_type": "markdown",
   "metadata": {},
   "source": [
    "# CLAW\n",
    "## Clean example"
   ]
  },
  {
   "cell_type": "code",
   "execution_count": 49,
   "metadata": {},
   "outputs": [
    {
     "name": "stdout",
     "output_type": "stream",
     "text": [
      "/mnt/home/jiajingh/anaconda3/lib/python3.8/site-packages/torchtext/data/field.py:150: UserWarning: SourceField class will be retired soon and moved to torchtext.legacy. Please see the most recent release notes for further information.\n",
      "  warnings.warn('{} class will be retired soon and moved to torchtext.legacy. Please see the most recent release notes for further information.'.format(self.__class__.__name__), UserWarning)\n",
      "/mnt/home/jiajingh/anaconda3/lib/python3.8/site-packages/torchtext/data/field.py:150: UserWarning: TargetField class will be retired soon and moved to torchtext.legacy. Please see the most recent release notes for further information.\n",
      "  warnings.warn('{} class will be retired soon and moved to torchtext.legacy. Please see the most recent release notes for further information.'.format(self.__class__.__name__), UserWarning)\n",
      "/mnt/home/jiajingh/anaconda3/lib/python3.8/site-packages/torchtext/data/field.py:150: UserWarning: TransSourceField class will be retired soon and moved to torchtext.legacy. Please see the most recent release notes for further information.\n",
      "  warnings.warn('{} class will be retired soon and moved to torchtext.legacy. Please see the most recent release notes for further information.'.format(self.__class__.__name__), UserWarning)\n",
      "/mnt/home/jiajingh/anaconda3/lib/python3.8/site-packages/torchtext/data/field.py:150: UserWarning: Field class will be retired soon and moved to torchtext.legacy. Please see the most recent release notes for further information.\n",
      "  warnings.warn('{} class will be retired soon and moved to torchtext.legacy. Please see the most recent release notes for further information.'.format(self.__class__.__name__), UserWarning)\n",
      "Namespace(attack_version=2, batch_size=32, data_path='./outputs/test.tsv', distinct=True, exact_matches=False, expt_dir='claw-sat', load_checkpoint='Best_F1', n_alt_iters=2, no_gradient=False, num_replacements=1500, random=False, save_path='./outputs/targets-test.json', smoothing_param=0.01, teacher_ratio=True, u_accumulate_best_replacements=False, u_learning_rate=0.5, u_optim=False, u_pgd_epochs=0, u_rand_update_pgd=False, use_loss_smoothing=False, vocab_to_use=1, z_epsilon=0, z_init=1, z_learning_rate=0.5, z_optim=False)\n",
      "data_split test\n",
      "/mnt/home/jiajingh/anaconda3/lib/python3.8/site-packages/torchtext/data/example.py:68: UserWarning: Example class will be retired soon and moved to torchtext.legacy. Please see the most recent release notes for further information.\n",
      "  warnings.warn('Example class will be retired soon and moved to torchtext.legacy. Please see the most recent release notes for further information.', UserWarning)\n",
      "/mnt/home/jiajingh/anaconda3/lib/python3.8/site-packages/torchtext/data/example.py:78: UserWarning: Example class will be retired soon and moved to torchtext.legacy. Please see the most recent release notes for further information.\n",
      "  warnings.warn('Example class will be retired soon and moved to torchtext.legacy. Please see the most recent release notes for further information.', UserWarning)\n",
      "[('index', <torchtext.data.field.Field object at 0x2b6b2e2d0b20>), ('src', <seq2seq.dataset.fields.TransSourceField object at 0x2b6a719b7ee0>), ('tgt', <seq2seq.dataset.fields.TargetField object at 0x2b6b2e2d01c0>), ('transforms.Combined', <seq2seq.dataset.fields.TransSourceField object at 0x2b6b2e2d0b80>)]\n",
      "Original data size: 100\n",
      "Attacking using Gradient transforms.Combined\n",
      "OrderedDict([   ('version', 'v2'),\n",
      "                ('n_alt_iters', 4),\n",
      "                ('z_optim', False),\n",
      "                ('z_epsilon', 0),\n",
      "                ('z_init', 1),\n",
      "                ('u_optim', False),\n",
      "                ('u_pgd_epochs', 0),\n",
      "                ('u_accumulate_best_replacements', False),\n",
      "                ('u_rand_update_pgd', False),\n",
      "                ('smooth_iters', 10),\n",
      "                ('use_cw_loss', False),\n",
      "                ('choose_best_loss_among_iters', True),\n",
      "                ('analyze_exact_match_sample', False),\n",
      "                ('use_orig_tokens', True)])\n",
      "OrderedDict([   ('u_optim_technique', 2),\n",
      "                ('u_init_pgd', 2),\n",
      "                ('learning_rate', 0.5),\n",
      "                ('use_loss_smoothing', False),\n",
      "                ('use_u_discrete', True)])\n",
      "/mnt/home/jiajingh/anaconda3/lib/python3.8/site-packages/torchtext/data/iterator.py:48: UserWarning: BucketIterator class will be retired soon and moved to torchtext.legacy. Please see the most recent release notes for further information.\n",
      "  warnings.warn('{} class will be retired soon and moved to torchtext.legacy. Please see the most recent release notes for further information.'.format(self.__class__.__name__), UserWarning)\n",
      "  0%|                                                     | 0/4 [00:00<?, ?it/s]/mnt/home/jiajingh/anaconda3/lib/python3.8/site-packages/torchtext/data/batch.py:23: UserWarning: Batch class will be retired soon and moved to torchtext.legacy. Please see the most recent release notes for further information.\n",
      "  warnings.warn('{} class will be retired soon and moved to torchtext.legacy. Please see the most recent release notes for further information.'.format(self.__class__.__name__), UserWarning)\n",
      "100%|█████████████████████████████████████████████| 4/4 [00:00<00:00,  8.74it/s]\n",
      "Skipped and reverted to random attacks: 0/100 (0.0)\n",
      "Nothing to attack: 0/1 (0.0)\n",
      "----------------\n",
      "# of samples attacked: 100\n",
      "\n",
      "# tokens optimized on an average: 0.0\n",
      "\n",
      "# of samples attacked post processing: 100\n",
      "=======\n",
      "  + Saved: ./outputs/targets-test-gradient.json\n",
      "\n",
      "In replace_tokens ===== \n",
      "Namespace(dest_data_path='./outputs/gradient-targeting/test.tsv', mapping_json='./outputs/targets-test-gradient.json', source_data_path='./outputs/test.tsv')\n",
      "====\n",
      "101it [00:00, 24566.50it/s]\n"
     ]
    }
   ],
   "source": [
    "!python ./Transformer/gradient_attack.py \\\n",
    "    --data_path ./outputs/test.tsv \\\n",
    "    --expt_dir \"claw-sat\" \\\n",
    "    --load_checkpoint \"Best_F1\" \\\n",
    "    --save_path ./outputs/targets-test.json \\\n",
    "    --n_alt_iters 2 \\\n",
    "    --z_init 1 \\\n",
    "    --batch_size 32 \\\n",
    "    --u_pgd_epochs 0 \\\n",
    "    --z_epsilon 0 \\\n",
    "    --attack_version 2 \\\n",
    "    --u_learning_rate 0.5 \\\n",
    "    --z_learning_rate 0.5 \\\n",
    "    --smoothing_param 0.01 \\\n",
    "\t--vocab_to_use 1 \\\n",
    "    --teacher_ratio \n",
    "\n",
    "!python ./Transformer/replace_tokens.py \\\n",
    "      --source_data_path ./outputs/test.tsv \\\n",
    "      --dest_data_path ./outputs/gradient-targeting/test.tsv \\\n",
    "      --mapping_json ./outputs/targets-test-gradient.json"
   ]
  },
  {
   "cell_type": "code",
   "execution_count": 50,
   "metadata": {},
   "outputs": [
    {
     "name": "stdout",
     "output_type": "stream",
     "text": [
      "/mnt/home/jiajingh/anaconda3/lib/python3.8/site-packages/torchtext/data/field.py:150: UserWarning: SourceField class will be retired soon and moved to torchtext.legacy. Please see the most recent release notes for further information.\n",
      "  warnings.warn('{} class will be retired soon and moved to torchtext.legacy. Please see the most recent release notes for further information.'.format(self.__class__.__name__), UserWarning)\n",
      "/mnt/home/jiajingh/anaconda3/lib/python3.8/site-packages/torchtext/data/field.py:150: UserWarning: TargetField class will be retired soon and moved to torchtext.legacy. Please see the most recent release notes for further information.\n",
      "  warnings.warn('{} class will be retired soon and moved to torchtext.legacy. Please see the most recent release notes for further information.'.format(self.__class__.__name__), UserWarning)\n",
      "/mnt/home/jiajingh/anaconda3/lib/python3.8/site-packages/torchtext/data/field.py:150: UserWarning: TransSourceField class will be retired soon and moved to torchtext.legacy. Please see the most recent release notes for further information.\n",
      "  warnings.warn('{} class will be retired soon and moved to torchtext.legacy. Please see the most recent release notes for further information.'.format(self.__class__.__name__), UserWarning)\n",
      "/mnt/home/jiajingh/anaconda3/lib/python3.8/site-packages/torchtext/data/field.py:150: UserWarning: TargetField class will be retired soon and moved to torchtext.legacy. Please see the most recent release notes for further information.\n",
      "  warnings.warn('{} class will be retired soon and moved to torchtext.legacy. Please see the most recent release notes for further information.'.format(self.__class__.__name__), UserWarning)\n",
      "/mnt/home/jiajingh/anaconda3/lib/python3.8/site-packages/torchtext/data/field.py:150: UserWarning: Field class will be retired soon and moved to torchtext.legacy. Please see the most recent release notes for further information.\n",
      "  warnings.warn('{} class will be retired soon and moved to torchtext.legacy. Please see the most recent release notes for further information.'.format(self.__class__.__name__), UserWarning)\n",
      "Namespace(attributions=False, batch_size=32, data_path='./outputs/gradient-targeting/test.tsv', expt_dir='claw-sat', get_reps=False, load_checkpoint='Best_F1', output_dir='./outputs', save=True, src_field_name='transforms.Combined')\n",
      "claw-sat Best_F1\n",
      "/mnt/home/jiajingh/anaconda3/lib/python3.8/site-packages/torchtext/data/example.py:68: UserWarning: Example class will be retired soon and moved to torchtext.legacy. Please see the most recent release notes for further information.\n",
      "  warnings.warn('Example class will be retired soon and moved to torchtext.legacy. Please see the most recent release notes for further information.', UserWarning)\n",
      "/mnt/home/jiajingh/anaconda3/lib/python3.8/site-packages/torchtext/data/example.py:78: UserWarning: Example class will be retired soon and moved to torchtext.legacy. Please see the most recent release notes for further information.\n",
      "  warnings.warn('Example class will be retired soon and moved to torchtext.legacy. Please see the most recent release notes for further information.', UserWarning)\n",
      "transforms.Combined\n",
      "Sizes:\n",
      "  + Data Small 95\n",
      "  + Data Med 4\n",
      "  + Data Lrg 1\n",
      "False\n",
      "/mnt/home/jiajingh/anaconda3/lib/python3.8/site-packages/torchtext/data/iterator.py:48: UserWarning: BucketIterator class will be retired soon and moved to torchtext.legacy. Please see the most recent release notes for further information.\n",
      "  warnings.warn('{} class will be retired soon and moved to torchtext.legacy. Please see the most recent release notes for further information.'.format(self.__class__.__name__), UserWarning)\n",
      "0it [00:00, ?it/s]/mnt/home/jiajingh/anaconda3/lib/python3.8/site-packages/torchtext/data/batch.py:23: UserWarning: Batch class will be retired soon and moved to torchtext.legacy. Please see the most recent release notes for further information.\n",
      "  warnings.warn('{} class will be retired soon and moved to torchtext.legacy. Please see the most recent release notes for further information.'.format(self.__class__.__name__), UserWarning)\n",
      "4it [00:08,  2.02s/it]\n",
      "100%|███████████████████████████████████████| 99/99 [00:00<00:00, 117364.64it/s]\n",
      "--------------- f1: 36.446469243499365\n",
      "\n",
      "Output files written\n"
     ]
    }
   ],
   "source": [
    "!python3 ./Transformer/evaluate.py \\\n",
    "  --data_path ./outputs/gradient-targeting/test.tsv \\\n",
    "  --expt_dir \"claw-sat\" \\\n",
    "  --output_dir ./outputs \\\n",
    "  --load_checkpoint \"Best_F1\" \\\n",
    "  --src_field_name \"transforms.Combined\" --save "
   ]
  },
  {
   "cell_type": "markdown",
   "metadata": {},
   "source": [
    "## adversarial examples"
   ]
  },
  {
   "cell_type": "code",
   "execution_count": null,
   "metadata": {},
   "outputs": [
    {
     "name": "stdout",
     "output_type": "stream",
     "text": [
      "/mnt/home/jiajingh/anaconda3/lib/python3.8/site-packages/torchtext/data/field.py:150: UserWarning: SourceField class will be retired soon and moved to torchtext.legacy. Please see the most recent release notes for further information.\n",
      "  warnings.warn('{} class will be retired soon and moved to torchtext.legacy. Please see the most recent release notes for further information.'.format(self.__class__.__name__), UserWarning)\n",
      "/mnt/home/jiajingh/anaconda3/lib/python3.8/site-packages/torchtext/data/field.py:150: UserWarning: TargetField class will be retired soon and moved to torchtext.legacy. Please see the most recent release notes for further information.\n",
      "  warnings.warn('{} class will be retired soon and moved to torchtext.legacy. Please see the most recent release notes for further information.'.format(self.__class__.__name__), UserWarning)\n",
      "/mnt/home/jiajingh/anaconda3/lib/python3.8/site-packages/torchtext/data/field.py:150: UserWarning: TransSourceField class will be retired soon and moved to torchtext.legacy. Please see the most recent release notes for further information.\n",
      "  warnings.warn('{} class will be retired soon and moved to torchtext.legacy. Please see the most recent release notes for further information.'.format(self.__class__.__name__), UserWarning)\n",
      "/mnt/home/jiajingh/anaconda3/lib/python3.8/site-packages/torchtext/data/field.py:150: UserWarning: Field class will be retired soon and moved to torchtext.legacy. Please see the most recent release notes for further information.\n",
      "  warnings.warn('{} class will be retired soon and moved to torchtext.legacy. Please see the most recent release notes for further information.'.format(self.__class__.__name__), UserWarning)\n",
      "Namespace(attack_version=2, batch_size=16, data_path='./outputs/test.tsv', distinct=True, exact_matches=False, expt_dir='claw-sat', load_checkpoint='Best_F1', n_alt_iters=2, no_gradient=False, num_replacements=1500, random=False, save_path='./outputs/targets-test.json', smoothing_param=0.01, teacher_ratio=True, u_accumulate_best_replacements=False, u_learning_rate=0.5, u_optim=True, u_pgd_epochs=3, u_rand_update_pgd=False, use_loss_smoothing=False, vocab_to_use=1, z_epsilon=5, z_init=1, z_learning_rate=0.5, z_optim=True)\n",
      "data_split test\n",
      "/mnt/home/jiajingh/anaconda3/lib/python3.8/site-packages/torchtext/data/example.py:68: UserWarning: Example class will be retired soon and moved to torchtext.legacy. Please see the most recent release notes for further information.\n",
      "  warnings.warn('Example class will be retired soon and moved to torchtext.legacy. Please see the most recent release notes for further information.', UserWarning)\n",
      "/mnt/home/jiajingh/anaconda3/lib/python3.8/site-packages/torchtext/data/example.py:78: UserWarning: Example class will be retired soon and moved to torchtext.legacy. Please see the most recent release notes for further information.\n",
      "  warnings.warn('Example class will be retired soon and moved to torchtext.legacy. Please see the most recent release notes for further information.', UserWarning)\n",
      "[('index', <torchtext.data.field.Field object at 0x2ba4b4998b20>), ('src', <seq2seq.dataset.fields.TransSourceField object at 0x2ba3e4058ee0>), ('tgt', <seq2seq.dataset.fields.TargetField object at 0x2ba4b49981c0>), ('transforms.Combined', <seq2seq.dataset.fields.TransSourceField object at 0x2ba4b4998b80>)]\n",
      "Original data size: 100\n",
      "Attacking using Gradient transforms.Combined\n",
      "OrderedDict([   ('version', 'v2'),\n",
      "                ('n_alt_iters', 4),\n",
      "                ('z_optim', True),\n",
      "                ('z_epsilon', 5),\n",
      "                ('z_init', 1),\n",
      "                ('u_optim', True),\n",
      "                ('u_pgd_epochs', 3),\n",
      "                ('u_accumulate_best_replacements', False),\n",
      "                ('u_rand_update_pgd', False),\n",
      "                ('smooth_iters', 10),\n",
      "                ('use_cw_loss', False),\n",
      "                ('choose_best_loss_among_iters', True),\n",
      "                ('analyze_exact_match_sample', False),\n",
      "                ('use_orig_tokens', True)])\n",
      "OrderedDict([   ('u_optim_technique', 2),\n",
      "                ('u_init_pgd', 2),\n",
      "                ('learning_rate', 0.5),\n",
      "                ('use_loss_smoothing', False),\n",
      "                ('use_u_discrete', True)])\n",
      "/mnt/home/jiajingh/anaconda3/lib/python3.8/site-packages/torchtext/data/iterator.py:48: UserWarning: BucketIterator class will be retired soon and moved to torchtext.legacy. Please see the most recent release notes for further information.\n",
      "  warnings.warn('{} class will be retired soon and moved to torchtext.legacy. Please see the most recent release notes for further information.'.format(self.__class__.__name__), UserWarning)\n",
      "  0%|                                                     | 0/7 [00:00<?, ?it/s]/mnt/home/jiajingh/anaconda3/lib/python3.8/site-packages/torchtext/data/batch.py:23: UserWarning: Batch class will be retired soon and moved to torchtext.legacy. Please see the most recent release notes for further information.\n",
      "  warnings.warn('{} class will be retired soon and moved to torchtext.legacy. Please see the most recent release notes for further information.'.format(self.__class__.__name__), UserWarning)\n",
      " 43%|███████████████████▎                         | 3/7 [01:34<02:05, 31.44s/it]"
     ]
    }
   ],
   "source": [
    "!python ./Transformer/gradient_attack.py \\\n",
    "    --data_path ./outputs/test.tsv \\\n",
    "    --expt_dir \"claw-sat\" \\\n",
    "    --load_checkpoint \"Best_F1\" \\\n",
    "    --save_path ./outputs/targets-test.json \\\n",
    "    --n_alt_iters 2 \\\n",
    "    --z_init 1 \\\n",
    "    --batch_size 16 \\\n",
    "    --u_pgd_epochs 3 \\\n",
    "    --z_epsilon 5 \\\n",
    "    --attack_version 2 \\\n",
    "    --u_learning_rate 0.5 \\\n",
    "    --z_learning_rate 0.5 \\\n",
    "    --smoothing_param 0.01 \\\n",
    "\t--vocab_to_use 1 \\\n",
    "    --teacher_ratio \\\n",
    "    --u_optim \\\n",
    "    --z_optim\n",
    "\n",
    "!python ./Transformer/replace_tokens.py \\\n",
    "      --source_data_path ./outputs/test.tsv \\\n",
    "      --dest_data_path ./outputs/gradient-targeting/test.tsv \\\n",
    "      --mapping_json ./outputs/targets-test-gradient.json"
   ]
  },
  {
   "cell_type": "code",
   "execution_count": 34,
   "metadata": {},
   "outputs": [
    {
     "name": "stdout",
     "output_type": "stream",
     "text": [
      "/mnt/home/jiajingh/anaconda3/lib/python3.8/site-packages/torchtext/data/field.py:150: UserWarning: SourceField class will be retired soon and moved to torchtext.legacy. Please see the most recent release notes for further information.\n",
      "  warnings.warn('{} class will be retired soon and moved to torchtext.legacy. Please see the most recent release notes for further information.'.format(self.__class__.__name__), UserWarning)\n",
      "/mnt/home/jiajingh/anaconda3/lib/python3.8/site-packages/torchtext/data/field.py:150: UserWarning: TargetField class will be retired soon and moved to torchtext.legacy. Please see the most recent release notes for further information.\n",
      "  warnings.warn('{} class will be retired soon and moved to torchtext.legacy. Please see the most recent release notes for further information.'.format(self.__class__.__name__), UserWarning)\n",
      "/mnt/home/jiajingh/anaconda3/lib/python3.8/site-packages/torchtext/data/field.py:150: UserWarning: TransSourceField class will be retired soon and moved to torchtext.legacy. Please see the most recent release notes for further information.\n",
      "  warnings.warn('{} class will be retired soon and moved to torchtext.legacy. Please see the most recent release notes for further information.'.format(self.__class__.__name__), UserWarning)\n",
      "/mnt/home/jiajingh/anaconda3/lib/python3.8/site-packages/torchtext/data/field.py:150: UserWarning: TargetField class will be retired soon and moved to torchtext.legacy. Please see the most recent release notes for further information.\n",
      "  warnings.warn('{} class will be retired soon and moved to torchtext.legacy. Please see the most recent release notes for further information.'.format(self.__class__.__name__), UserWarning)\n",
      "/mnt/home/jiajingh/anaconda3/lib/python3.8/site-packages/torchtext/data/field.py:150: UserWarning: Field class will be retired soon and moved to torchtext.legacy. Please see the most recent release notes for further information.\n",
      "  warnings.warn('{} class will be retired soon and moved to torchtext.legacy. Please see the most recent release notes for further information.'.format(self.__class__.__name__), UserWarning)\n",
      "Namespace(attributions=False, batch_size=32, data_path='./outputs/gradient-targeting/test.tsv', expt_dir='./claw-sat/mnt/usr/jinghan/contracode_adversarial/final-models/seq2seq/v2-3-z_rand_1-pgd_3-no-transforms.Combined-py150-transforms.Combined-finetuned_sri_transformer_adversarial_online_transforms.Combined_decoder-only-false-epochs-1-0.4-AT-lamb-0.4/sri/py150/transforms.Combined/adversarial/lstm', get_reps=False, load_checkpoint='Best_F1', output_dir='./outputs', save=True, src_field_name='transforms.Combined')\n",
      "./claw-sat/mnt/usr/jinghan/contracode_adversarial/final-models/seq2seq/v2-3-z_rand_1-pgd_3-no-transforms.Combined-py150-transforms.Combined-finetuned_sri_transformer_adversarial_online_transforms.Combined_decoder-only-false-epochs-1-0.4-AT-lamb-0.4/sri/py150/transforms.Combined/adversarial/lstm Best_F1\n",
      "/mnt/home/jiajingh/anaconda3/lib/python3.8/site-packages/torchtext/data/example.py:68: UserWarning: Example class will be retired soon and moved to torchtext.legacy. Please see the most recent release notes for further information.\n",
      "  warnings.warn('Example class will be retired soon and moved to torchtext.legacy. Please see the most recent release notes for further information.', UserWarning)\n",
      "/mnt/home/jiajingh/anaconda3/lib/python3.8/site-packages/torchtext/data/example.py:78: UserWarning: Example class will be retired soon and moved to torchtext.legacy. Please see the most recent release notes for further information.\n",
      "  warnings.warn('Example class will be retired soon and moved to torchtext.legacy. Please see the most recent release notes for further information.', UserWarning)\n",
      "transforms.Combined\n",
      "Sizes:\n",
      "  + Data Small 95\n",
      "  + Data Med 4\n",
      "  + Data Lrg 1\n",
      "False\n",
      "/mnt/home/jiajingh/anaconda3/lib/python3.8/site-packages/torchtext/data/iterator.py:48: UserWarning: BucketIterator class will be retired soon and moved to torchtext.legacy. Please see the most recent release notes for further information.\n",
      "  warnings.warn('{} class will be retired soon and moved to torchtext.legacy. Please see the most recent release notes for further information.'.format(self.__class__.__name__), UserWarning)\n",
      "0it [00:00, ?it/s]/mnt/home/jiajingh/anaconda3/lib/python3.8/site-packages/torchtext/data/batch.py:23: UserWarning: Batch class will be retired soon and moved to torchtext.legacy. Please see the most recent release notes for further information.\n",
      "  warnings.warn('{} class will be retired soon and moved to torchtext.legacy. Please see the most recent release notes for further information.'.format(self.__class__.__name__), UserWarning)\n",
      "4it [00:08,  2.08s/it]\n",
      "100%|███████████████████████████████████████| 99/99 [00:00<00:00, 115279.32it/s]\n",
      "--------------- f1: 33.936651578902364\n",
      "\n",
      "Output files written\n"
     ]
    }
   ],
   "source": [
    "!python3 ./Transformer/evaluate.py \\\n",
    "  --data_path ./outputs/gradient-targeting/test.tsv \\\n",
    "  --expt_dir \"claw-sat\" \\\n",
    "  --output_dir ./outputs \\\n",
    "  --load_checkpoint \"Best_F1\" \\\n",
    "  --src_field_name \"transforms.Combined\" --save "
   ]
  },
  {
   "cell_type": "markdown",
   "metadata": {},
   "source": [
    "# Contracode\n",
    "## clean examples"
   ]
  },
  {
   "cell_type": "code",
   "execution_count": 8,
   "metadata": {},
   "outputs": [
    {
     "name": "stdout",
     "output_type": "stream",
     "text": [
      "/mnt/home/jiajingh/anaconda3/lib/python3.8/site-packages/torchtext/data/field.py:150: UserWarning: SourceField class will be retired soon and moved to torchtext.legacy. Please see the most recent release notes for further information.\n",
      "  warnings.warn('{} class will be retired soon and moved to torchtext.legacy. Please see the most recent release notes for further information.'.format(self.__class__.__name__), UserWarning)\n",
      "/mnt/home/jiajingh/anaconda3/lib/python3.8/site-packages/torchtext/data/field.py:150: UserWarning: TargetField class will be retired soon and moved to torchtext.legacy. Please see the most recent release notes for further information.\n",
      "  warnings.warn('{} class will be retired soon and moved to torchtext.legacy. Please see the most recent release notes for further information.'.format(self.__class__.__name__), UserWarning)\n",
      "/mnt/home/jiajingh/anaconda3/lib/python3.8/site-packages/torchtext/data/field.py:150: UserWarning: TransSourceField class will be retired soon and moved to torchtext.legacy. Please see the most recent release notes for further information.\n",
      "  warnings.warn('{} class will be retired soon and moved to torchtext.legacy. Please see the most recent release notes for further information.'.format(self.__class__.__name__), UserWarning)\n",
      "/mnt/home/jiajingh/anaconda3/lib/python3.8/site-packages/torchtext/data/field.py:150: UserWarning: Field class will be retired soon and moved to torchtext.legacy. Please see the most recent release notes for further information.\n",
      "  warnings.warn('{} class will be retired soon and moved to torchtext.legacy. Please see the most recent release notes for further information.'.format(self.__class__.__name__), UserWarning)\n",
      "Namespace(attack_version=2, batch_size=32, data_path='./outputs/test.tsv', distinct=True, exact_matches=False, expt_dir='./contracode/mnt/usr/jinghan/contracode_adversarial/final-models/seq2seq/sri/py150/finetuned_sri_transformer_random_decoder-only-false-epochs-10/lstm/', load_checkpoint='Best_F1', n_alt_iters=2, no_gradient=False, num_replacements=1500, random=False, save_path='./outputs/targets-test.json', smoothing_param=0.01, teacher_ratio=True, u_accumulate_best_replacements=False, u_learning_rate=0.5, u_optim=False, u_pgd_epochs=0, u_rand_update_pgd=False, use_loss_smoothing=False, vocab_to_use=1, z_epsilon=0, z_init=1, z_learning_rate=0.5, z_optim=False)\n",
      "data_split test\n",
      "/mnt/home/jiajingh/anaconda3/lib/python3.8/site-packages/torchtext/data/example.py:68: UserWarning: Example class will be retired soon and moved to torchtext.legacy. Please see the most recent release notes for further information.\n",
      "  warnings.warn('Example class will be retired soon and moved to torchtext.legacy. Please see the most recent release notes for further information.', UserWarning)\n",
      "/mnt/home/jiajingh/anaconda3/lib/python3.8/site-packages/torchtext/data/example.py:78: UserWarning: Example class will be retired soon and moved to torchtext.legacy. Please see the most recent release notes for further information.\n",
      "  warnings.warn('Example class will be retired soon and moved to torchtext.legacy. Please see the most recent release notes for further information.', UserWarning)\n",
      "[('index', <torchtext.data.field.Field object at 0x2af67a353b20>), ('src', <seq2seq.dataset.fields.TransSourceField object at 0x2af5b9a3aee0>), ('tgt', <seq2seq.dataset.fields.TargetField object at 0x2af67a3531c0>), ('transforms.Combined', <seq2seq.dataset.fields.TransSourceField object at 0x2af67a353b80>)]\n",
      "Original data size: 100\n",
      "Attacking using Gradient transforms.Combined\n",
      "OrderedDict([   ('version', 'v2'),\n",
      "                ('n_alt_iters', 4),\n",
      "                ('z_optim', False),\n",
      "                ('z_epsilon', 0),\n",
      "                ('z_init', 1),\n",
      "                ('u_optim', False),\n",
      "                ('u_pgd_epochs', 0),\n",
      "                ('u_accumulate_best_replacements', False),\n",
      "                ('u_rand_update_pgd', False),\n",
      "                ('smooth_iters', 10),\n",
      "                ('use_cw_loss', False),\n",
      "                ('choose_best_loss_among_iters', True),\n",
      "                ('analyze_exact_match_sample', False),\n",
      "                ('use_orig_tokens', True)])\n",
      "OrderedDict([   ('u_optim_technique', 2),\n",
      "                ('u_init_pgd', 2),\n",
      "                ('learning_rate', 0.5),\n",
      "                ('use_loss_smoothing', False),\n",
      "                ('use_u_discrete', True)])\n",
      "/mnt/home/jiajingh/anaconda3/lib/python3.8/site-packages/torchtext/data/iterator.py:48: UserWarning: BucketIterator class will be retired soon and moved to torchtext.legacy. Please see the most recent release notes for further information.\n",
      "  warnings.warn('{} class will be retired soon and moved to torchtext.legacy. Please see the most recent release notes for further information.'.format(self.__class__.__name__), UserWarning)\n",
      "  0%|                                                     | 0/4 [00:00<?, ?it/s]/mnt/home/jiajingh/anaconda3/lib/python3.8/site-packages/torchtext/data/batch.py:23: UserWarning: Batch class will be retired soon and moved to torchtext.legacy. Please see the most recent release notes for further information.\n",
      "  warnings.warn('{} class will be retired soon and moved to torchtext.legacy. Please see the most recent release notes for further information.'.format(self.__class__.__name__), UserWarning)\n",
      "100%|█████████████████████████████████████████████| 4/4 [00:00<00:00,  8.39it/s]\n",
      "Skipped and reverted to random attacks: 0/100 (0.0)\n",
      "Nothing to attack: 0/1 (0.0)\n",
      "----------------\n",
      "# of samples attacked: 100\n",
      "\n",
      "# tokens optimized on an average: 0.0\n",
      "\n",
      "# of samples attacked post processing: 100\n",
      "=======\n",
      "  + Saved: ./outputs/targets-test-gradient.json\n",
      "\n",
      "In replace_tokens ===== \n",
      "Namespace(dest_data_path='./outputs/gradient-targeting/test.tsv', mapping_json='./outputs/targets-test-gradient.json', source_data_path='./outputs/test.tsv')\n",
      "====\n",
      "101it [00:00, 24646.54it/s]\n"
     ]
    }
   ],
   "source": [
    "!python ./Transformer/gradient_attack.py \\\n",
    "    --data_path ./outputs/test.tsv \\\n",
    "    --expt_dir \"contracode\" \\\n",
    "    --load_checkpoint \"Best_F1\" \\\n",
    "    --save_path ./outputs/targets-test.json \\\n",
    "    --n_alt_iters 2 \\\n",
    "    --z_init 1 \\\n",
    "    --batch_size 32 \\\n",
    "    --u_pgd_epochs 0 \\\n",
    "    --z_epsilon 0 \\\n",
    "    --attack_version 2 \\\n",
    "    --u_learning_rate 0.5 \\\n",
    "    --z_learning_rate 0.5 \\\n",
    "    --smoothing_param 0.01 \\\n",
    "\t--vocab_to_use 1 \\\n",
    "    --teacher_ratio \n",
    "\n",
    "!python ./Transformer/replace_tokens.py \\\n",
    "      --source_data_path ./outputs/test.tsv \\\n",
    "      --dest_data_path ./outputs/gradient-targeting/test.tsv \\\n",
    "      --mapping_json ./outputs/targets-test-gradient.json"
   ]
  },
  {
   "cell_type": "code",
   "execution_count": 9,
   "metadata": {},
   "outputs": [
    {
     "name": "stdout",
     "output_type": "stream",
     "text": [
      "/mnt/home/jiajingh/anaconda3/lib/python3.8/site-packages/torchtext/data/field.py:150: UserWarning: SourceField class will be retired soon and moved to torchtext.legacy. Please see the most recent release notes for further information.\n",
      "  warnings.warn('{} class will be retired soon and moved to torchtext.legacy. Please see the most recent release notes for further information.'.format(self.__class__.__name__), UserWarning)\n",
      "/mnt/home/jiajingh/anaconda3/lib/python3.8/site-packages/torchtext/data/field.py:150: UserWarning: TargetField class will be retired soon and moved to torchtext.legacy. Please see the most recent release notes for further information.\n",
      "  warnings.warn('{} class will be retired soon and moved to torchtext.legacy. Please see the most recent release notes for further information.'.format(self.__class__.__name__), UserWarning)\n",
      "/mnt/home/jiajingh/anaconda3/lib/python3.8/site-packages/torchtext/data/field.py:150: UserWarning: TransSourceField class will be retired soon and moved to torchtext.legacy. Please see the most recent release notes for further information.\n",
      "  warnings.warn('{} class will be retired soon and moved to torchtext.legacy. Please see the most recent release notes for further information.'.format(self.__class__.__name__), UserWarning)\n",
      "/mnt/home/jiajingh/anaconda3/lib/python3.8/site-packages/torchtext/data/field.py:150: UserWarning: TargetField class will be retired soon and moved to torchtext.legacy. Please see the most recent release notes for further information.\n",
      "  warnings.warn('{} class will be retired soon and moved to torchtext.legacy. Please see the most recent release notes for further information.'.format(self.__class__.__name__), UserWarning)\n",
      "/mnt/home/jiajingh/anaconda3/lib/python3.8/site-packages/torchtext/data/field.py:150: UserWarning: Field class will be retired soon and moved to torchtext.legacy. Please see the most recent release notes for further information.\n",
      "  warnings.warn('{} class will be retired soon and moved to torchtext.legacy. Please see the most recent release notes for further information.'.format(self.__class__.__name__), UserWarning)\n",
      "Namespace(attributions=False, batch_size=32, data_path='./outputs/gradient-targeting/test.tsv', expt_dir='./contracode/mnt/usr/jinghan/contracode_adversarial/final-models/seq2seq/sri/py150/finetuned_sri_transformer_random_decoder-only-false-epochs-10/lstm/', get_reps=False, load_checkpoint='Best_F1', output_dir='./outputs', save=True, src_field_name='transforms.Combined')\n",
      "./contracode/mnt/usr/jinghan/contracode_adversarial/final-models/seq2seq/sri/py150/finetuned_sri_transformer_random_decoder-only-false-epochs-10/lstm/ Best_F1\n",
      "/mnt/home/jiajingh/anaconda3/lib/python3.8/site-packages/torchtext/data/example.py:68: UserWarning: Example class will be retired soon and moved to torchtext.legacy. Please see the most recent release notes for further information.\n",
      "  warnings.warn('Example class will be retired soon and moved to torchtext.legacy. Please see the most recent release notes for further information.', UserWarning)\n",
      "/mnt/home/jiajingh/anaconda3/lib/python3.8/site-packages/torchtext/data/example.py:78: UserWarning: Example class will be retired soon and moved to torchtext.legacy. Please see the most recent release notes for further information.\n",
      "  warnings.warn('Example class will be retired soon and moved to torchtext.legacy. Please see the most recent release notes for further information.', UserWarning)\n",
      "transforms.Combined\n",
      "Sizes:\n",
      "  + Data Small 95\n",
      "  + Data Med 4\n",
      "  + Data Lrg 1\n",
      "False\n",
      "/mnt/home/jiajingh/anaconda3/lib/python3.8/site-packages/torchtext/data/iterator.py:48: UserWarning: BucketIterator class will be retired soon and moved to torchtext.legacy. Please see the most recent release notes for further information.\n",
      "  warnings.warn('{} class will be retired soon and moved to torchtext.legacy. Please see the most recent release notes for further information.'.format(self.__class__.__name__), UserWarning)\n",
      "0it [00:00, ?it/s]/mnt/home/jiajingh/anaconda3/lib/python3.8/site-packages/torchtext/data/batch.py:23: UserWarning: Batch class will be retired soon and moved to torchtext.legacy. Please see the most recent release notes for further information.\n",
      "  warnings.warn('{} class will be retired soon and moved to torchtext.legacy. Please see the most recent release notes for further information.'.format(self.__class__.__name__), UserWarning)\n",
      "4it [00:08,  2.02s/it]\n",
      "100%|███████████████████████████████████████| 99/99 [00:00<00:00, 112805.24it/s]\n",
      "--------------- f1: 34.31151241053621\n",
      "\n",
      "Output files written\n"
     ]
    }
   ],
   "source": [
    "!python3 ./Transformer/evaluate.py \\\n",
    "  --data_path ./outputs/gradient-targeting/test.tsv \\\n",
    "  --expt_dir \"contracode\" \\\n",
    "  --output_dir ./outputs \\\n",
    "  --load_checkpoint \"Best_F1\" \\\n",
    "  --src_field_name \"transforms.Combined\" --save "
   ]
  },
  {
   "cell_type": "markdown",
   "metadata": {},
   "source": [
    "## adversarial examples"
   ]
  },
  {
   "cell_type": "code",
   "execution_count": 35,
   "metadata": {},
   "outputs": [
    {
     "name": "stdout",
     "output_type": "stream",
     "text": [
      "/mnt/home/jiajingh/anaconda3/lib/python3.8/site-packages/torchtext/data/field.py:150: UserWarning: SourceField class will be retired soon and moved to torchtext.legacy. Please see the most recent release notes for further information.\n",
      "  warnings.warn('{} class will be retired soon and moved to torchtext.legacy. Please see the most recent release notes for further information.'.format(self.__class__.__name__), UserWarning)\n",
      "/mnt/home/jiajingh/anaconda3/lib/python3.8/site-packages/torchtext/data/field.py:150: UserWarning: TargetField class will be retired soon and moved to torchtext.legacy. Please see the most recent release notes for further information.\n",
      "  warnings.warn('{} class will be retired soon and moved to torchtext.legacy. Please see the most recent release notes for further information.'.format(self.__class__.__name__), UserWarning)\n",
      "/mnt/home/jiajingh/anaconda3/lib/python3.8/site-packages/torchtext/data/field.py:150: UserWarning: TransSourceField class will be retired soon and moved to torchtext.legacy. Please see the most recent release notes for further information.\n",
      "  warnings.warn('{} class will be retired soon and moved to torchtext.legacy. Please see the most recent release notes for further information.'.format(self.__class__.__name__), UserWarning)\n",
      "/mnt/home/jiajingh/anaconda3/lib/python3.8/site-packages/torchtext/data/field.py:150: UserWarning: Field class will be retired soon and moved to torchtext.legacy. Please see the most recent release notes for further information.\n",
      "  warnings.warn('{} class will be retired soon and moved to torchtext.legacy. Please see the most recent release notes for further information.'.format(self.__class__.__name__), UserWarning)\n",
      "Namespace(attack_version=2, batch_size=16, data_path='./outputs/test.tsv', distinct=True, exact_matches=False, expt_dir='./contracode/mnt/usr/jinghan/contracode_adversarial/final-models/seq2seq/sri/py150/finetuned_sri_transformer_random_decoder-only-false-epochs-10/lstm/', load_checkpoint='Best_F1', n_alt_iters=2, no_gradient=False, num_replacements=1500, random=False, save_path='./outputs/targets-test.json', smoothing_param=0.01, teacher_ratio=True, u_accumulate_best_replacements=False, u_learning_rate=0.5, u_optim=True, u_pgd_epochs=3, u_rand_update_pgd=False, use_loss_smoothing=False, vocab_to_use=1, z_epsilon=5, z_init=1, z_learning_rate=0.5, z_optim=True)\n",
      "data_split test\n",
      "/mnt/home/jiajingh/anaconda3/lib/python3.8/site-packages/torchtext/data/example.py:68: UserWarning: Example class will be retired soon and moved to torchtext.legacy. Please see the most recent release notes for further information.\n",
      "  warnings.warn('Example class will be retired soon and moved to torchtext.legacy. Please see the most recent release notes for further information.', UserWarning)\n",
      "/mnt/home/jiajingh/anaconda3/lib/python3.8/site-packages/torchtext/data/example.py:78: UserWarning: Example class will be retired soon and moved to torchtext.legacy. Please see the most recent release notes for further information.\n",
      "  warnings.warn('Example class will be retired soon and moved to torchtext.legacy. Please see the most recent release notes for further information.', UserWarning)\n",
      "[('index', <torchtext.data.field.Field object at 0x2ae91df19b20>), ('src', <seq2seq.dataset.fields.TransSourceField object at 0x2ae85d5ffee0>), ('tgt', <seq2seq.dataset.fields.TargetField object at 0x2ae91df191c0>), ('transforms.Combined', <seq2seq.dataset.fields.TransSourceField object at 0x2ae91df19b80>)]\n",
      "Original data size: 100\n",
      "Attacking using Gradient transforms.Combined\n",
      "OrderedDict([   ('version', 'v2'),\n",
      "                ('n_alt_iters', 4),\n",
      "                ('z_optim', True),\n",
      "                ('z_epsilon', 5),\n",
      "                ('z_init', 1),\n",
      "                ('u_optim', True),\n",
      "                ('u_pgd_epochs', 3),\n",
      "                ('u_accumulate_best_replacements', False),\n",
      "                ('u_rand_update_pgd', False),\n",
      "                ('smooth_iters', 10),\n",
      "                ('use_cw_loss', False),\n",
      "                ('choose_best_loss_among_iters', True),\n",
      "                ('analyze_exact_match_sample', False),\n",
      "                ('use_orig_tokens', True)])\n",
      "OrderedDict([   ('u_optim_technique', 2),\n",
      "                ('u_init_pgd', 2),\n",
      "                ('learning_rate', 0.5),\n",
      "                ('use_loss_smoothing', False),\n",
      "                ('use_u_discrete', True)])\n",
      "/mnt/home/jiajingh/anaconda3/lib/python3.8/site-packages/torchtext/data/iterator.py:48: UserWarning: BucketIterator class will be retired soon and moved to torchtext.legacy. Please see the most recent release notes for further information.\n",
      "  warnings.warn('{} class will be retired soon and moved to torchtext.legacy. Please see the most recent release notes for further information.'.format(self.__class__.__name__), UserWarning)\n",
      "  0%|                                                     | 0/7 [00:00<?, ?it/s]/mnt/home/jiajingh/anaconda3/lib/python3.8/site-packages/torchtext/data/batch.py:23: UserWarning: Batch class will be retired soon and moved to torchtext.legacy. Please see the most recent release notes for further information.\n",
      "  warnings.warn('{} class will be retired soon and moved to torchtext.legacy. Please see the most recent release notes for further information.'.format(self.__class__.__name__), UserWarning)\n",
      "100%|█████████████████████████████████████████████| 7/7 [02:40<00:00, 22.95s/it]\n",
      "Skipped and reverted to random attacks: 20/100 (20.0)\n",
      "Nothing to attack: 0/81 (0.0)\n",
      "----------------\n",
      "# of samples attacked: 100\n",
      "\n",
      "# tokens optimized on an average: 5.28\n",
      "\n",
      "# of samples attacked post processing: 100\n",
      "=======\n",
      "  + Saved: ./outputs/targets-test-gradient.json\n",
      "\n",
      "In replace_tokens ===== \n",
      "Namespace(dest_data_path='./outputs/gradient-targeting/test.tsv', mapping_json='./outputs/targets-test-gradient.json', source_data_path='./outputs/test.tsv')\n",
      "====\n",
      "101it [00:00, 23620.00it/s]\n"
     ]
    }
   ],
   "source": [
    "!python ./Transformer/gradient_attack.py \\\n",
    "    --data_path ./outputs/test.tsv \\\n",
    "    --expt_dir \"contracode\" \\\n",
    "    --load_checkpoint \"Best_F1\" \\\n",
    "    --save_path ./outputs/targets-test.json \\\n",
    "    --n_alt_iters 2 \\\n",
    "    --z_init 1 \\\n",
    "    --batch_size 16 \\\n",
    "    --u_pgd_epochs 3 \\\n",
    "    --z_epsilon 5 \\\n",
    "    --attack_version 2 \\\n",
    "    --u_learning_rate 0.5 \\\n",
    "    --z_learning_rate 0.5 \\\n",
    "    --smoothing_param 0.01 \\\n",
    "\t--vocab_to_use 1 \\\n",
    "    --teacher_ratio \\\n",
    "    --u_optim \\\n",
    "    --z_optim\n",
    "\n",
    "!python ./Transformer/replace_tokens.py \\\n",
    "      --source_data_path ./outputs/test.tsv \\\n",
    "      --dest_data_path ./outputs/gradient-targeting/test.tsv \\\n",
    "      --mapping_json ./outputs/targets-test-gradient.json"
   ]
  },
  {
   "cell_type": "code",
   "execution_count": 36,
   "metadata": {},
   "outputs": [
    {
     "name": "stdout",
     "output_type": "stream",
     "text": [
      "/mnt/home/jiajingh/anaconda3/lib/python3.8/site-packages/torchtext/data/field.py:150: UserWarning: SourceField class will be retired soon and moved to torchtext.legacy. Please see the most recent release notes for further information.\n",
      "  warnings.warn('{} class will be retired soon and moved to torchtext.legacy. Please see the most recent release notes for further information.'.format(self.__class__.__name__), UserWarning)\n",
      "/mnt/home/jiajingh/anaconda3/lib/python3.8/site-packages/torchtext/data/field.py:150: UserWarning: TargetField class will be retired soon and moved to torchtext.legacy. Please see the most recent release notes for further information.\n",
      "  warnings.warn('{} class will be retired soon and moved to torchtext.legacy. Please see the most recent release notes for further information.'.format(self.__class__.__name__), UserWarning)\n",
      "/mnt/home/jiajingh/anaconda3/lib/python3.8/site-packages/torchtext/data/field.py:150: UserWarning: TransSourceField class will be retired soon and moved to torchtext.legacy. Please see the most recent release notes for further information.\n",
      "  warnings.warn('{} class will be retired soon and moved to torchtext.legacy. Please see the most recent release notes for further information.'.format(self.__class__.__name__), UserWarning)\n",
      "/mnt/home/jiajingh/anaconda3/lib/python3.8/site-packages/torchtext/data/field.py:150: UserWarning: TargetField class will be retired soon and moved to torchtext.legacy. Please see the most recent release notes for further information.\n",
      "  warnings.warn('{} class will be retired soon and moved to torchtext.legacy. Please see the most recent release notes for further information.'.format(self.__class__.__name__), UserWarning)\n",
      "/mnt/home/jiajingh/anaconda3/lib/python3.8/site-packages/torchtext/data/field.py:150: UserWarning: Field class will be retired soon and moved to torchtext.legacy. Please see the most recent release notes for further information.\n",
      "  warnings.warn('{} class will be retired soon and moved to torchtext.legacy. Please see the most recent release notes for further information.'.format(self.__class__.__name__), UserWarning)\n",
      "Namespace(attributions=False, batch_size=32, data_path='./outputs/gradient-targeting/test.tsv', expt_dir='./contracode/mnt/usr/jinghan/contracode_adversarial/final-models/seq2seq/sri/py150/finetuned_sri_transformer_random_decoder-only-false-epochs-10/lstm/', get_reps=False, load_checkpoint='Best_F1', output_dir='./outputs', save=True, src_field_name='transforms.Combined')\n",
      "./contracode/mnt/usr/jinghan/contracode_adversarial/final-models/seq2seq/sri/py150/finetuned_sri_transformer_random_decoder-only-false-epochs-10/lstm/ Best_F1\n",
      "/mnt/home/jiajingh/anaconda3/lib/python3.8/site-packages/torchtext/data/example.py:68: UserWarning: Example class will be retired soon and moved to torchtext.legacy. Please see the most recent release notes for further information.\n",
      "  warnings.warn('Example class will be retired soon and moved to torchtext.legacy. Please see the most recent release notes for further information.', UserWarning)\n",
      "/mnt/home/jiajingh/anaconda3/lib/python3.8/site-packages/torchtext/data/example.py:78: UserWarning: Example class will be retired soon and moved to torchtext.legacy. Please see the most recent release notes for further information.\n",
      "  warnings.warn('Example class will be retired soon and moved to torchtext.legacy. Please see the most recent release notes for further information.', UserWarning)\n",
      "transforms.Combined\n",
      "Sizes:\n",
      "  + Data Small 95\n",
      "  + Data Med 4\n",
      "  + Data Lrg 1\n",
      "False\n",
      "/mnt/home/jiajingh/anaconda3/lib/python3.8/site-packages/torchtext/data/iterator.py:48: UserWarning: BucketIterator class will be retired soon and moved to torchtext.legacy. Please see the most recent release notes for further information.\n",
      "  warnings.warn('{} class will be retired soon and moved to torchtext.legacy. Please see the most recent release notes for further information.'.format(self.__class__.__name__), UserWarning)\n",
      "0it [00:00, ?it/s]/mnt/home/jiajingh/anaconda3/lib/python3.8/site-packages/torchtext/data/batch.py:23: UserWarning: Batch class will be retired soon and moved to torchtext.legacy. Please see the most recent release notes for further information.\n",
      "  warnings.warn('{} class will be retired soon and moved to torchtext.legacy. Please see the most recent release notes for further information.'.format(self.__class__.__name__), UserWarning)\n",
      "4it [00:08,  2.08s/it]\n",
      "100%|███████████████████████████████████████| 99/99 [00:00<00:00, 119561.21it/s]\n",
      "--------------- f1: 32.59911893786451\n",
      "\n",
      "Output files written\n"
     ]
    }
   ],
   "source": [
    "!python3 ./Transformer/evaluate.py \\\n",
    "  --data_path ./outputs/gradient-targeting/test.tsv \\\n",
    "  --expt_dir \"contracode\" \\\n",
    "  --output_dir ./outputs \\\n",
    "  --load_checkpoint \"Best_F1\" \\\n",
    "  --src_field_name \"transforms.Combined\" --save "
   ]
  },
  {
   "cell_type": "code",
   "execution_count": null,
   "metadata": {},
   "outputs": [],
   "source": []
  }
 ],
 "metadata": {
  "accelerator": "GPU",
  "colab": {
   "collapsed_sections": [],
   "provenance": []
  },
  "kernelspec": {
   "display_name": "Python 3",
   "language": "python",
   "name": "python3"
  },
  "language_info": {
   "codemirror_mode": {
    "name": "ipython",
    "version": 3
   },
   "file_extension": ".py",
   "mimetype": "text/x-python",
   "name": "python",
   "nbconvert_exporter": "python",
   "pygments_lexer": "ipython3",
   "version": "3.8.8"
  }
 },
 "nbformat": 4,
 "nbformat_minor": 1
}
